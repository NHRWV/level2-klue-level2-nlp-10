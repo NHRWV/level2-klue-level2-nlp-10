{
 "cells": [
  {
   "cell_type": "code",
   "execution_count": 1,
   "metadata": {},
   "outputs": [],
   "source": [
    "from csv_edit import *\n",
    "from df_edit import *"
   ]
  },
  {
   "cell_type": "code",
   "execution_count": null,
   "metadata": {},
   "outputs": [],
   "source": [
    "!pip install googletrans==4.0.0-rc1"
   ]
  },
  {
   "cell_type": "code",
   "execution_count": 1,
   "metadata": {},
   "outputs": [],
   "source": [
    "from googletrans import Translator\n",
    "\n",
    "translator = Translator()"
   ]
  },
  {
   "cell_type": "code",
   "execution_count": 13,
   "metadata": {},
   "outputs": [
    {
     "name": "stdout",
     "output_type": "stream",
     "text": [
      "Translated(src=ko, dest=en, text=Honam-based, the right futures, alternative and Democratic Peace, were worthy of the end of the twist, and unified the name (tentative)., pronunciation=None, extra_data=\"{'confiden...\")\n"
     ]
    }
   ],
   "source": [
    "print(translator.translate('호남이 기반인 바른미래당·대안신당·민주평화당이 우여곡절 끝에 합당해 민생당(가칭)으로 명칭을 통일하였다.', src='ko', dest='en'))"
   ]
  },
  {
   "cell_type": "code",
   "execution_count": 2,
   "metadata": {},
   "outputs": [
    {
     "name": "stderr",
     "output_type": "stream",
     "text": [
      "<ipython-input-2-3c150f134808>:6: FutureWarning: Passing a negative integer is deprecated in version 1.0 and will not be supported in future version. Instead, use None to not limit the column width.\n",
      "  pd.set_option('display.max_colwidth', -1)\n"
     ]
    }
   ],
   "source": [
    "import pandas as pd\n",
    "\n",
    "pd.set_option('display.max_rows', None)\n",
    "pd.set_option('display.max_columns', None)\n",
    "pd.set_option('display.width', None)\n",
    "pd.set_option('display.max_colwidth', -1)"
   ]
  },
  {
   "cell_type": "markdown",
   "metadata": {},
   "source": [
    "#### https://me2.kr/0j4cp 보고 따라하고 Google이 나오면 됩니다."
   ]
  },
  {
   "cell_type": "code",
   "execution_count": 3,
   "metadata": {},
   "outputs": [
    {
     "name": "stdout",
     "output_type": "stream",
     "text": [
      "Google\n"
     ]
    }
   ],
   "source": [
    "from selenium import webdriver\n",
    "from selenium.webdriver.chrome import service\n",
    "from selenium.webdriver.chrome.options import Options\n",
    "from selenium.webdriver.chrome.service import Service\n",
    "\n",
    "options = Options()\n",
    "options.add_argument(\"--no-sandbox\") #bypass OS security model\n",
    "options.add_argument(\"--headless\")\n",
    "options.add_argument(\"--disable-dev-shm-usage\") #overcome limited resource problems\n",
    "\n",
    "s=Service('/opt/ml/chromedriver')\n",
    "driver = webdriver.Chrome(options=options, service=s)\n",
    "driver.get('http://google.com/')\n",
    "myPageTitle = driver.title\n",
    "print(myPageTitle)\n",
    "driver.quit()"
   ]
  },
  {
   "cell_type": "code",
   "execution_count": 39,
   "metadata": {},
   "outputs": [],
   "source": [
    "train_df = pd.read_csv('/opt/ml/dataset/train/train.csv')\n",
    "train_df_2 = better_df(train_df)"
   ]
  },
  {
   "cell_type": "code",
   "execution_count": 40,
   "metadata": {},
   "outputs": [
    {
     "data": {
      "text/plain": [
       "32470"
      ]
     },
     "execution_count": 40,
     "metadata": {},
     "output_type": "execute_result"
    }
   ],
   "source": [
    "(len(train_df_2))"
   ]
  },
  {
   "cell_type": "code",
   "execution_count": 5,
   "metadata": {},
   "outputs": [],
   "source": [
    "for i in range(len(train_df_2)):\n",
    "    if train_df_2['sentence'].iloc[i][train_df_2['obj_start'].iloc[i]:train_df_2['obj_end'].iloc[i]+1] != train_df_2['obj_word'].iloc[i]:\n",
    "        print(train_df_2['sentence'].iloc[i])\n",
    "        print(train_df_2['subj_word'].iloc[i])"
   ]
  },
  {
   "cell_type": "code",
   "execution_count": 41,
   "metadata": {},
   "outputs": [],
   "source": [
    "sen_dict = train_df_2.to_dict()\n",
    "sub_ent_list = []\n",
    "obj_ent_list = []\n",
    "\n",
    "for i in range(train_df_2.shape[0]):\n",
    "    sub_ent_list.append((train_df_2['subj_start'].iloc[i],train_df_2['subj_end'].iloc[i]))\n",
    "    obj_ent_list.append((train_df_2['obj_start'].iloc[i],train_df_2['obj_end'].iloc[i]))"
   ]
  },
  {
   "cell_type": "code",
   "execution_count": 45,
   "metadata": {},
   "outputs": [
    {
     "data": {
      "text/plain": [
       "32470"
      ]
     },
     "execution_count": 45,
     "metadata": {},
     "output_type": "execute_result"
    }
   ],
   "source": [
    "len(sen_dict['sentence'])"
   ]
  },
  {
   "cell_type": "code",
   "execution_count": 46,
   "metadata": {},
   "outputs": [],
   "source": [
    "sub_code = \"VKV\" # entity가 사라지는 것을 방지\n",
    "obj_code = \"VJV\"\n",
    "encode_dict={}\n",
    "for idx in range(len(sen_dict['sentence'])):\n",
    "    sub_start = sub_ent_list[idx][0]\n",
    "    sub_end = sub_ent_list[idx][1]\n",
    "    obj_start = obj_ent_list[idx][0]\n",
    "    obj_end = obj_ent_list[idx][1]\n",
    "    if sub_start<obj_start:\n",
    "        encode_dict[idx]=(sen_dict['sentence'][idx][:sub_start]+sub_code+sen_dict['sentence'][idx][sub_end+1:obj_start]+obj_code+sen_dict['sentence'][idx][obj_end+1:])\n",
    "    else :\n",
    "        encode_dict[idx]=(sen_dict['sentence'][idx][:obj_start]+obj_code+sen_dict['sentence'][idx][obj_end+1:sub_start]+sub_code+sen_dict['sentence'][idx][sub_end+1:])"
   ]
  },
  {
   "cell_type": "code",
   "execution_count": 49,
   "metadata": {},
   "outputs": [
    {
     "data": {
      "text/plain": [
       "'〈Something〉는 VJV이 쓰고 VKV가 1969년 앨범 《Abbey Road》에 담은 노래다.'"
      ]
     },
     "execution_count": 49,
     "metadata": {},
     "output_type": "execute_result"
    }
   ],
   "source": [
    "# 인코딩 확인\n",
    "encode_dict[0]"
   ]
  },
  {
   "cell_type": "code",
   "execution_count": 51,
   "metadata": {},
   "outputs": [],
   "source": [
    "for key,item in encode_dict.items():\n",
    "    if len(item)>200:\n",
    "        quotioent = len(item) // 200\n",
    "        new_line_idx_list=[]\n",
    "        for i in range(quotioent):\n",
    "            new_line_idx = 200*(i+1)\n",
    "            while new_line_idx < len(item) and item[new_line_idx] != ' ':\n",
    "                new_line_idx += 1\n",
    "            new_line_idx_list.append(new_line_idx)\n",
    "        for n_idx in new_line_idx_list:\n",
    "            item = item[:n_idx]+'...'+item[n_idx+1:]\n",
    "        encode_dict[key]=item\n",
    "\n",
    "# 왜 이 짓을 하는가? 파파고는 한 문장당 200자만 번역이 가능하다 ..\n",
    "        "
   ]
  },
  {
   "cell_type": "code",
   "execution_count": 72,
   "metadata": {},
   "outputs": [
    {
     "data": {
      "text/plain": [
       "'〈Something〉는 VJV이 쓰고 VKV가 1969년 앨범 《Abbey Road》에 담은 노래다.'"
      ]
     },
     "execution_count": 72,
     "metadata": {},
     "output_type": "execute_result"
    }
   ],
   "source": [
    "encode_dict[0]"
   ]
  },
  {
   "cell_type": "code",
   "execution_count": 141,
   "metadata": {},
   "outputs": [
    {
     "name": "stdout",
     "output_type": "stream",
     "text": [
      "0 〈Something〉는 VJV이 쓰고 VKV가 1969년 앨범 《Abbey Road》에 담은 노래다.\n",
      "1 호남이 기반인 바른미래당·VJV·VKV이 우여곡절 끝에 합당해 민생당(가칭)으로 재탄생한다.\n",
      "2 K리그2에서 성적 1위를 달리고 있는 VKV는 지난 26일 VJV으로부터 관중 유치 성과와 마케팅 성과를 인정받아 ‘풀 스타디움상’과 ‘플러스 스타디움상’을 수상했다.\n",
      "3 균일가 생활용품점 (주)VKV(대표 VJV)는 코로나19 바이러스로 어려움을 겪고 있는 대구광역시에 행복박스를 전달했다고 10일 밝혔다.\n",
      "4 VJV년 프로 야구 드래프트 1순위로 VKV에게 입단하면서 등번호는 8번으로 배정되었다.\n",
      "5 : 유엔, 유럽 의회, VKV (VJV), 국제이주기구, 세계 보건 기구 (WHO), 지중해 연합, 이슬람 협력 기구, 유럽 안보 협력 기구, 국제 통화 기금, 세계무역기구 그리고 프랑코포니.\n",
      "6 그에 따라 나폴리와 계약을 연장한 마라도나는 VJV년 팀을 UEFA컵 정상으로 인도했으며 이듬해에는 유럽 챔피언 VKV을 상대로 승리를 거두고 다시 한 번 세리에A에서 정상에 등극했다.\n",
      "7 VKV(朴容旿, VJV(음력 3월 19일)(음력 3월 19일) ~ 2009년 11월 4일)는 서울에서 태어난 대한민국의 기업인으로 두산그룹 회장, KBO 총재 등을 역임했다.\n",
      "8 중공군에게 온전히 대항할 수 없을 정도로 약해진 국민당은 VJV로 수도를 옮기는 것을 결정해, 남아있는 VKV군의 병력이나 국가, 개인의 재산등을 속속 타이완으로 옮기기 시작해, 12월에는 중앙 정부 기구도 모두 이전해 타이베이 시를 중화민국의 새로운 수도로 삼았다.\n",
      "9 특히 김동연 전 경제부총리를 비롯한 김두관 국회의원, VKV 국회의원, 김종민 국회의원, 오제세 국회의원, 최운열 국회의원, 김정우 국회의원, 권칠승 국회의원, 맹성규 국회의원등 VJV 국회의원 8명이 영상 축하 메세지를 보내 눈길을 끌었다.\n"
     ]
    }
   ],
   "source": [
    "import itertools\n",
    "for idx,value in dict(itertools.islice(encode_dict.items(), 0,10)).items():\n",
    "    print(idx,value)\n"
   ]
  },
  {
   "cell_type": "code",
   "execution_count": 142,
   "metadata": {},
   "outputs": [],
   "source": [
    "from selenium import webdriver\n",
    "from selenium.webdriver.chrome.options import Options\n",
    "from selenium.webdriver.chrome.service import Service\n",
    "from selenium.webdriver.support.ui import WebDriverWait\n",
    "from selenium.webdriver.support import expected_conditions as EC\n",
    "from selenium.webdriver.common.by import By\n",
    "import time\n",
    "import numpy as np\n",
    "from tqdm.auto import tqdm\n",
    "from datetime import datetime\n",
    "import pickle\n",
    "import itertools\n",
    "# 크롬창(웹드라이버) 열기\n",
    "options = Options()\n",
    "options.add_argument(\"--no-sandbox\") #bypass OS security model\n",
    "options.add_argument(\"--headless\")\n",
    "options.add_argument(\"--disable-dev-shm-usage\") #overcome limited resource problems\n",
    "s=Service('/opt/ml/chromedriver')\n",
    "driver = webdriver.Chrome(options=options, service=s)\n",
    "\n",
    "    \n",
    "\n"
   ]
  },
  {
   "cell_type": "code",
   "execution_count": 143,
   "metadata": {},
   "outputs": [],
   "source": [
    "target_present = EC.presence_of_element_located((By.XPATH, '//*[@id=\"txtTarget\"]'))\n",
    "\n",
    "# 파파고 페이지 접속\n",
    "start_index = 0\n",
    "last_index = 10\n",
    "kor_to_eng_dict={}\n",
    "for key, value in dict(itertools.islice(encode_dict.items(), start_index,last_index)).items():\n",
    "    # 입력창에 검색어 입력\n",
    "    backtrans=''\n",
    "    # element=WebDriverWait(driver, 10).until(target_present)\n",
    "    driver.get('https://papago.naver.com/?sk=ko&tk=en')\n",
    "    time.sleep(0.1)\n",
    "    driver.find_element(By.XPATH,value='//*[@id=\"sourceEditArea\"]/label').send_keys(value)\n",
    "    driver.find_element(By.XPATH,value='//*[@id=\"btnTranslate\"]').click()\n",
    "    time.sleep(1.5)\n",
    "    backtrans = WebDriverWait(driver, 20).until(target_present).text\n",
    "    # backtrans = driver.find_element(By.XPATH,value='//*[@id=\"txtTarget\"]').text\n",
    "    kor_to_eng_dict[key]=backtrans\n",
    "\n",
    "with open(f'kor_eng_{start_index}_to_{last_index}.pickle', 'wb') as f:\n",
    "    pickle.dump(kor_to_eng_dict, f, pickle.HIGHEST_PROTOCOL)"
   ]
  },
  {
   "cell_type": "code",
   "execution_count": 144,
   "metadata": {},
   "outputs": [
    {
     "data": {
      "text/plain": [
       "{0: \"Something is written by VJV and included in VKV's 1969 album Abbey Road.\",\n",
       " 1: \"The Bareunmirae Party, VJV, and VKV, which are based in Honam, will merge after many twists and turns and be reborn as the People's Livelihood Party (tentative name).\",\n",
       " 2: 'VKV, which ranks first in the K League 2, won the \"Full Stadium Award\" and the \"Plus Stadium Award\" in recognition of its audience attraction and marketing performance by VJV on the 26th.',\n",
       " 3: 'VKV Co., Ltd. (CEO VJV) announced on the 10th that it has delivered a happiness box to Daegu Metropolitan City, which is suffering from the COVID-19 virus.',\n",
       " 4: 'When he joined VKV as the No. 1 professional baseball draft in VJV, his uniform number was assigned No. 8.',\n",
       " 5: ': The United Nations, the European Parliament, the VKV (VJV), the International Organization for Migration, the World Health Organization (WHO), the Mediterranean Union, the Islamic Cooperation Organization, the European Security Cooperation Organization, the International Monetary Fund, the World Trade Organization and Francophony.',\n",
       " 6: 'Accordingly, Maradona, who extended his contract with Naples, led the VJV team to the top of the UEFA Cup, and the following year, he won against European champion VKV and once again reached the top of Serie A.',\n",
       " 7: 'VKV (March 19 in the lunar calendar) (March 19 in the lunar calendar) - November 4, 2009 was a South Korean businessman born in Seoul and served as chairman of Doosan Group and president of KBO.',\n",
       " 8: 'The Kuomintang, which had become too weak against the Chinese army, decided to move the capital to VJV, and began to move the remaining VKV troops, the state and personal property to Taiwan one after another in December, and in December, the central government moved Taipei City to become the new capital of the Republic of China.',\n",
       " 9: 'In particular, eight VJV lawmakers, including former Deputy Prime Minister Kim Dong-yeon, VKV lawmakers, Kim Jong-min, Oh Je-se, Choi Un-yeol, Kim Jung-woo, Kwon Chil-seung, and Maeng Sung-kyu, sent video congratulatory messages.'}"
      ]
     },
     "execution_count": 144,
     "metadata": {},
     "output_type": "execute_result"
    }
   ],
   "source": [
    "kor_to_eng_dict # 아무리 살리려고 해도 지워지는 경우가 있다."
   ]
  },
  {
   "cell_type": "code",
   "execution_count": 77,
   "metadata": {},
   "outputs": [],
   "source": [
    "target_present = EC.presence_of_element_located((By.XPATH, '//*[@id=\"txtTarget\"]'))\n",
    "eng_to_kor_dict={}\n",
    "\n",
    "for key,data in kor_to_eng_dict.items():\n",
    "    # 입력창에 검색어 입력\n",
    "    backtrans=''\n",
    "    # element=WebDriverWait(driver, 10).until(target_present)\n",
    "    driver.get('https://papago.naver.com/?sk=en&tk=ko')\n",
    "    time.sleep(0.1)\n",
    "    driver.find_element(By.XPATH,value='//*[@id=\"sourceEditArea\"]/label').send_keys(data)\n",
    "    driver.find_element(By.XPATH,value='//*[@id=\"btnTranslate\"]').click()\n",
    "    time.sleep(1.5)\n",
    "    backtrans = WebDriverWait(driver, 20).until(target_present).text\n",
    "    # backtrans = driver.find_element(By.XPATH,value='//*[@id=\"txtTarget\"]').text\n",
    "    eng_to_kor_dict[key]=backtrans\n",
    "\n",
    "with open(f'eng_kor_{start_index}_to_{last_index}.pickle', 'wb') as f:\n",
    "    pickle.dump(eng_to_kor_dict, f, pickle.HIGHEST_PROTOCOL)\n",
    "driver.close()"
   ]
  },
  {
   "cell_type": "code",
   "execution_count": 139,
   "metadata": {},
   "outputs": [
    {
     "data": {
      "text/plain": [
       "{0: '어떤 것은 VJV에 의해 쓰여졌고 VKV의 1969년 앨범 Abbey Road에 포함되어 있다.',\n",
       " 1: '호남을 기반으로 하는 바른정당과 VJV, VKV가 우여곡절 끝에 합당해 민생당(가칭)으로 거듭난다.',\n",
       " 2: '',\n",
       " 3: '주식회사 VKV(대표 VJV)는 COVID-19 바이러스로 몸살을 앓고 있는 대구광역시에 행복상자를 전달했다고 10일 밝혔다.',\n",
       " 4: '그가 VJV 프로야구 드래프트 1순위로 VKV에 입단했을 때, 그의 유니폼 번호는 8번이었다.',\n",
       " 5: ': 유엔, 유럽의회, VKV(VJV), 국제이주기구, 세계보건기구(WHO), 지중해연합, 이슬람협력기구, 유럽안보협력기구, 국제통화기금, 세계무역기구.',\n",
       " 6: '이에 따라 나폴리와 계약을 연장한 마라도나는 VJV팀을 UEFA컵 정상에 올려놓았고 이듬해 유럽 챔피언 VKV를 꺾고 다시 한 번 세리에A 정상에 올랐다.',\n",
       " 7: 'VKV (음력 3월 19일) - 2009년 11월 4일 서울에서 태어난 대한민국 기업인으로 두산그룹 회장 및 KBO 총재를 역임하였다.',\n",
       " 8: '중국군에 대해 너무 약해진 국민당은 수도를 VJV로 옮기기로 결정하고 12월부터 남아 있는 VKV 병력과 국유재산을 차례로 대만으로 이전하기 시작했고, 12월에는 중앙정부가 타이베이시를 옮겨 중화민국의 새 수도가 되었다.',\n",
       " 9: '특히 김동연 전 부총리, VKV 의원, 김종민 오세 최운열 김정우 권칠승 맹성규 의원 등 8명의 VJV 의원이 영상 메시지를 보냈다.',\n",
       " 10: 'VKV는 VJV 클럽 태어스의 청소년 팀을 위해 축구를 시작했다.',\n",
       " 11: '1990년대 중반 이후 태어난 세대의 대표적 아이콘으로 알려진 VJV VKV(본명 빌리 오코넬19)가 팝의 새로운 역사를 썼다.',\n",
       " 12: '2009년 9월 미국 프로야구 VKV 소속 야구선수 VJV는 MBC 스페셜에서 박찬호가 당신을 잊지 않고 최진실의 아픔과 죽음을 이해한다. 나는 최진실의 사건에 눈물을 흘렸다. 나는 한번 죽기로 결심한 적이 있다. 저는 잘하려고 노력했지만, 비난과 비난을 받았어요. \"머리가 빠져서 너무 힘들었어요\" 그리고 최진실의 죽음은...에 대한 유감을 표현했다.',\n",
       " 13: 'VKV의 1차 산업부의 생물 보안 대변인인 캐서린 더시 박사는 초파리를 잡기 위해 VJV 전역에 1,300개 이상의 파리 통이 배치되어 있으며, 조만간 이 통들을 마지막으로 검사할 것이라고 말했다.',\n",
       " 14: '지오토 디 본도네, 마사치오, 피에로 델라 프란체스카, 도메니코 줄란도, 페루지노, VKV, 라파엘, 보티첼리, 레오나르도 다빈치, 리치아노로 대표되는 이탈리아 VJV 그림은 그 당시와 그 이후의 기간에 걸쳐 유럽에 영향을 미쳤다.',\n",
       " 15: '성명은 이상민 대전시당 위원장, 이춘희 세종특별자치당 위원장, 홍재형 충북도당 위원장, 박수현 이해찬 박병석 변제일 의원이 서명했다.',\n",
       " 16: 'VKV 대표도 기자회견에 앞서 \"특위를 한국당에 내주는 일은 없어야 한다\"며 \"지금 민주당에 득이 된다고 생각하시는지 모르겠지만 VJV와 야당의 개혁협력이 될 것\"이라고 지적했다.',\n",
       " 17: 'VKV는 태평양 전쟁 말기에 일본 본토에 상륙하려는 연합군에 대항하기 위해 창설된 VJV의 총병력이다.',\n",
       " 18: 'VKV는 VJV스쿨에 입학해 황동일, 신영석 등과 함께 하계대회, 전국체전, 최강전 등 3관왕을 차지하며 경기대 전성시대를 이끌었다.',\n",
       " 19: '포럼은 제주개발공사, 유네스코 아시아태평양본부, 한국지질자원연구원이 공동 주최하고 유네스코 파리본부, 제주특별자치도, VJV, VKV, 한국건설기술연구원이 후원한다.'}"
      ]
     },
     "execution_count": 139,
     "metadata": {},
     "output_type": "execute_result"
    }
   ],
   "source": [
    "eng_to_kor_dict"
   ]
  },
  {
   "cell_type": "code",
   "execution_count": 145,
   "metadata": {},
   "outputs": [
    {
     "data": {
      "text/plain": [
       "{0: '어떤 것은 VJV에 의해 쓰여졌고 VKV의 1969년 앨범 Abbey Road에 포함되어 있다.',\n",
       " 1: '호남을 기반으로 하는 바른정당과 VJV, VKV가 우여곡절 끝에 합당해 민생당(가칭)으로 거듭난다.',\n",
       " 2: '',\n",
       " 3: '주식회사 VKV(대표 VJV)는 COVID-19 바이러스로 몸살을 앓고 있는 대구광역시에 행복상자를 전달했다고 10일 밝혔다.',\n",
       " 4: '그가 VJV 프로야구 드래프트 1순위로 VKV에 입단했을 때, 그의 유니폼 번호는 8번이었다.',\n",
       " 5: ': 유엔, 유럽의회, VKV(VJV), 국제이주기구, 세계보건기구(WHO), 지중해연합, 이슬람협력기구, 유럽안보협력기구, 국제통화기금, 세계무역기구.',\n",
       " 6: '이에 따라 나폴리와 계약을 연장한 마라도나는 VJV팀을 UEFA컵 정상에 올려놓았고 이듬해 유럽 챔피언 VKV를 꺾고 다시 한 번 세리에A 정상에 올랐다.',\n",
       " 7: 'VKV (음력 3월 19일) - 2009년 11월 4일 서울에서 태어난 대한민국 기업인으로 두산그룹 회장 및 KBO 총재를 역임하였다.',\n",
       " 8: '중국군에 대해 너무 약해진 국민당은 수도를 VJV로 옮기기로 결정하고 12월부터 남아 있는 VKV 병력과 국유재산을 차례로 대만으로 이전하기 시작했고, 12월에는 중앙정부가 타이베이시를 옮겨 중화민국의 새 수도가 되었다.',\n",
       " 9: '특히 김동연 전 부총리, VKV 의원, 김종민 오세 최운열 김정우 권칠승 맹성규 의원 등 8명의 VJV 의원이 영상 메시지를 보냈다.',\n",
       " 10: 'VKV는 VJV 클럽 태어스의 청소년 팀을 위해 축구를 시작했다.',\n",
       " 11: '1990년대 중반 이후 태어난 세대의 대표적 아이콘으로 알려진 VJV VKV(본명 빌리 오코넬19)가 팝의 새로운 역사를 썼다.',\n",
       " 12: '2009년 9월 미국 프로야구 VKV 소속 야구선수 VJV는 MBC 스페셜에서 박찬호가 당신을 잊지 않고 최진실의 아픔과 죽음을 이해한다. 나는 최진실의 사건에 눈물을 흘렸다. 나는 한번 죽기로 결심한 적이 있다. 저는 잘하려고 노력했지만, 비난과 비난을 받았어요. \"머리가 빠져서 너무 힘들었어요\" 그리고 최진실의 죽음은...에 대한 유감을 표현했다.',\n",
       " 13: 'VKV의 1차 산업부의 생물 보안 대변인인 캐서린 더시 박사는 초파리를 잡기 위해 VJV 전역에 1,300개 이상의 파리 통이 배치되어 있으며, 조만간 이 통들을 마지막으로 검사할 것이라고 말했다.',\n",
       " 14: '지오토 디 본도네, 마사치오, 피에로 델라 프란체스카, 도메니코 줄란도, 페루지노, VKV, 라파엘, 보티첼리, 레오나르도 다빈치, 리치아노로 대표되는 이탈리아 VJV 그림은 그 당시와 그 이후의 기간에 걸쳐 유럽에 영향을 미쳤다.',\n",
       " 15: '성명은 이상민 대전시당 위원장, 이춘희 세종특별자치당 위원장, 홍재형 충북도당 위원장, 박수현 이해찬 박병석 변제일 의원이 서명했다.',\n",
       " 16: 'VKV 대표도 기자회견에 앞서 \"특위를 한국당에 내주는 일은 없어야 한다\"며 \"지금 민주당에 득이 된다고 생각하시는지 모르겠지만 VJV와 야당의 개혁협력이 될 것\"이라고 지적했다.',\n",
       " 17: 'VKV는 태평양 전쟁 말기에 일본 본토에 상륙하려는 연합군에 대항하기 위해 창설된 VJV의 총병력이다.',\n",
       " 18: 'VKV는 VJV스쿨에 입학해 황동일, 신영석 등과 함께 하계대회, 전국체전, 최강전 등 3관왕을 차지하며 경기대 전성시대를 이끌었다.',\n",
       " 19: '포럼은 제주개발공사, 유네스코 아시아태평양본부, 한국지질자원연구원이 공동 주최하고 유네스코 파리본부, 제주특별자치도, VJV, VKV, 한국건설기술연구원이 후원한다.'}"
      ]
     },
     "execution_count": 145,
     "metadata": {},
     "output_type": "execute_result"
    }
   ],
   "source": [
    "aug_dict ={}\n",
    "for i in range(1):\n",
    "    with open(f'eng_kor_{i*(last_index-start_index)}_to_{(i+1)*(last_index-start_index)}.pickle','rb') as f:\n",
    "        data = pickle.load(f)\n",
    "        aug_dict.update(data)\n",
    "aug_dict"
   ]
  },
  {
   "cell_type": "code",
   "execution_count": 151,
   "metadata": {},
   "outputs": [
    {
     "data": {
      "text/plain": [
       "{0: '어떤 것은 조지 해리슨에 의해 쓰여졌고 비틀즈의 1969년 앨범 Abbey Road에 포함되어 있다.',\n",
       " 1: '호남을 기반으로 하는 바른정당과 대안신당, 민주평화당가 우여곡절 끝에 합당해 민생당(가칭)으로 거듭난다.',\n",
       " 2: '',\n",
       " 3: '주식회사 아성다이소(대표 박정부)는 COVID-19 바이러스로 몸살을 앓고 있는 대구광역시에 행복상자를 전달했다고 10일 밝혔다.',\n",
       " 4: '그가 1967 프로야구 드래프트 1순위로 요미우리 자이언츠에 입단했을 때, 그의 유니폼 번호는 8번이었다.',\n",
       " 5: ': 유엔, 유럽의회, 북대서양 조약 기구(NATO), 국제이주기구, 세계보건기구(WHO), 지중해연합, 이슬람협력기구, 유럽안보협력기구, 국제통화기금, 세계무역기구.',\n",
       " 6: '이에 따라 나폴리와 계약을 연장한 마라도나는 1989팀을 UEFA컵 정상에 올려놓았고 이듬해 유럽 챔피언 AC 밀란를 꺾고 다시 한 번 세리에A 정상에 올랐다.',\n",
       " 7: 'VKV (음력 3월 19일) - 2009년 11월 4일 서울에서 태어난 대한민국 기업인으로 두산그룹 회장 및 KBO 총재를 역임하였다.',\n",
       " 8: '중국군에 대해 너무 약해진 국민당은 수도를 타이베이로 옮기기로 결정하고 12월부터 남아 있는 중화민국 병력과 국유재산을 차례로 대만으로 이전하기 시작했고, 12월에는 중앙정부가 타이베이시를 옮겨 중화민국의 새 수도가 되었다.',\n",
       " 9: '특히 김동연 전 부총리, 안규백 의원, 김종민 오세 최운열 김정우 권칠승 맹성규 의원 등 8명의 더불어민주당 의원이 영상 메시지를 보냈다.',\n",
       " 10: '하비에르 파스토레는 아르헨티나 클럽 태어스의 청소년 팀을 위해 축구를 시작했다.',\n",
       " 11: '1990년대 중반 이후 태어난 세대의 대표적 아이콘으로 알려진 싱어송라이터 빌리 아일리시(본명 빌리 오코넬19)가 팝의 새로운 역사를 썼다.',\n",
       " 12: '2009년 9월 미국 프로야구 필라델피아 필리스 소속 야구선수 박찬호는 MBC 스페셜에서 박찬호가 당신을 잊지 않고 최진실의 아픔과 죽음을 이해한다. 나는 최진실의 사건에 눈물을 흘렸다. 나는 한번 죽기로 결심한 적이 있다. 저는 잘하려고 노력했지만, 비난과 비난을 받았어요. \"머리가 빠져서 너무 힘들었어요\" 그리고 최진실의 죽음은...에 대한 유감을 표현했다.',\n",
       " 13: '뉴질랜드의 1차 산업부의 생물 보안 대변인인 캐서린 더시 박사는 초파리를 잡기 위해 오클랜드 전역에 1,300개 이상의 파리 통이 배치되어 있으며, 조만간 이 통들을 마지막으로 검사할 것이라고 말했다.',\n",
       " 14: '지오토 디 본도네, 마사치오, 피에로 델라 프란체스카, 도메니코 줄란도, 페루지노, 미켈란젤로, 라파엘, 보티첼리, 레오나르도 다빈치, 리치아노로 대표되는 이탈리아 르네상스 그림은 그 당시와 그 이후의 기간에 걸쳐 유럽에 영향을 미쳤다.',\n",
       " 15: '성명은 이상민 대전시당 위원장, 이춘희 세종특별자치당 위원장, 홍재형 충북도당 위원장, 박수현 이해찬 박병석 변제일 의원이 서명했다.',\n",
       " 16: '이정미 대표도 기자회견에 앞서 \"특위를 한국당에 내주는 일은 없어야 한다\"며 \"지금 민주당에 득이 된다고 생각하시는지 모르겠지만 정의당와 야당의 개혁협력이 될 것\"이라고 지적했다.',\n",
       " 17: '제2총군는 태평양 전쟁 말기에 일본 본토에 상륙하려는 연합군에 대항하기 위해 창설된 일본 제국 육군의 총병력이다.',\n",
       " 18: '문성민는 경기대스쿨에 입학해 황동일, 신영석 등과 함께 하계대회, 전국체전, 최강전 등 3관왕을 차지하며 경기대 전성시대를 이끌었다.',\n",
       " 19: '포럼은 제주개발공사, 유네스코 아시아태평양본부, 한국지질자원연구원이 공동 주최하고 유네스코 파리본부, 제주특별자치도, 환경부, 한국수자원공사, 한국건설기술연구원이 후원한다.'}"
      ]
     },
     "execution_count": 151,
     "metadata": {},
     "output_type": "execute_result"
    }
   ],
   "source": [
    "aug_dict"
   ]
  },
  {
   "cell_type": "code",
   "execution_count": 147,
   "metadata": {},
   "outputs": [
    {
     "name": "stdout",
     "output_type": "stream",
     "text": [
      "restoration percent :  0.85\n"
     ]
    },
    {
     "data": {
      "text/plain": [
       "{0: (22, 24),\n",
       " 1: (24, 28),\n",
       " 3: (5, 9),\n",
       " 4: (23, 31),\n",
       " 5: (12, 21),\n",
       " 6: (59, 63),\n",
       " 8: (52, 55),\n",
       " 9: (14, 16),\n",
       " 10: (0, 8),\n",
       " 11: (42, 48),\n",
       " 12: (17, 25),\n",
       " 13: (0, 3),\n",
       " 14: (47, 51),\n",
       " 16: (0, 2),\n",
       " 17: (0, 3),\n",
       " 18: (0, 2),\n",
       " 19: (71, 77)}"
      ]
     },
     "execution_count": 147,
     "metadata": {},
     "output_type": "execute_result"
    }
   ],
   "source": [
    "# 인코딩 과정에서 소문자가 나올 수 있어서 고려함\n",
    "score = 0\n",
    "aug_subj_idx_dict = {}\n",
    "aug_obj_idx_dict = {}\n",
    "\n",
    "for idx,item in aug_dict.items():\n",
    "    if item != '': # 번역이 안된 경우 제외\n",
    "        if sub_code in item or sub_code.lower() in item:\n",
    "            if obj_code in item or obj_code.lower() in item:\n",
    "                score += 1\n",
    "                \n",
    "                sub_start_idx = item.find(sub_code)\n",
    "                if sub_start_idx == -1:\n",
    "                    sub_start_idx = item.find(sub_code.lower())\n",
    "                obj_start_idx = item.find(obj_code)\n",
    "                if obj_start_idx == -1:\n",
    "                    obj_start_idx = item.find(obj_code.lower())\n",
    "\n",
    "                if sub_start_idx < obj_start_idx:\n",
    "                    item=item.replace(sub_code,sen_dict['subj_word'][idx])\n",
    "                    item=item.replace(sub_code.lower(),sen_dict['subj_word'][idx])\n",
    "                    aug_subj_idx_dict[idx]=((sub_start_idx,sub_start_idx+len(sen_dict['subj_word'][idx])-1))\n",
    "\n",
    "                    obj_start_idx = item.find(obj_code)\n",
    "                    if obj_start_idx == -1:\n",
    "                        obj_start_idx = item.find(obj_code.lower())\n",
    "\n",
    "                    item=item.replace(obj_code,sen_dict['obj_word'][idx])\n",
    "                    item=item.replace(obj_code.lower(),sen_dict['obj_word'][idx])\n",
    "                    aug_obj_idx_dict[idx]=((obj_start_idx,obj_start_idx+len(sen_dict['obj_word'][idx])-1))\n",
    "\n",
    "                else :\n",
    "                    item=item.replace(obj_code,sen_dict['obj_word'][idx])\n",
    "                    item=item.replace(obj_code.lower(),sen_dict['obj_word'][idx])\n",
    "                    aug_obj_idx_dict[idx]=((obj_start_idx,obj_start_idx+len(sen_dict['obj_word'][idx])-1))\n",
    "\n",
    "                    sub_start_idx = item.find(sub_code)\n",
    "                    if sub_start_idx == -1:\n",
    "                        sub_start_idx = item.find(sub_code.lower())\n",
    "\n",
    "                    item=item.replace(sub_code,sen_dict['subj_word'][idx])\n",
    "                    item=item.replace(sub_code.lower(),sen_dict['subj_word'][idx])\n",
    "                    aug_subj_idx_dict[idx]=((sub_start_idx,sub_start_idx+len(sen_dict['subj_word'][idx])-1))\n",
    "\n",
    "                aug_dict[idx]=item\n",
    "print(\"restoration percent : \", score/len(aug_dict))\n",
    "aug_subj_idx_dict"
   ]
  },
  {
   "cell_type": "code",
   "execution_count": 153,
   "metadata": {},
   "outputs": [
    {
     "name": "stdout",
     "output_type": "stream",
     "text": [
      "비틀즈\n",
      "민주평화당\n",
      "아성다이소\n",
      "요미우리 자이언츠\n",
      "북대서양 조약 기구\n",
      "AC 밀란\n",
      "중화민국\n",
      "안규백\n",
      "하비에르 파스토레\n",
      "빌리 아일리시\n",
      "필라델피아 필리스\n",
      "뉴질랜드\n",
      "미켈란젤로\n",
      "이정미\n",
      "제2총군\n",
      "문성민\n",
      "한국수자원공사\n"
     ]
    }
   ],
   "source": [
    "for idx,item in aug_dict.items():\n",
    "    if idx in aug_subj_idx_dict.keys():\n",
    "        print(aug_dict[idx][aug_subj_idx_dict[idx][0]:aug_subj_idx_dict[idx][1]+1])"
   ]
  },
  {
   "cell_type": "code",
   "execution_count": 160,
   "metadata": {},
   "outputs": [],
   "source": [
    "aug_data={}\n",
    "for idx,item in aug_dict.items():\n",
    "    if idx in aug_subj_idx_dict.keys():\n",
    "        insert_data={'id':idx+32470,'subj_type':sen_dict['subj_type'][idx],'subj_word':sen_dict['subj_word'][idx],'subj_start':aug_subj_idx_dict[idx][0],'subj_end':aug_subj_idx_dict[idx][1],'obj_type':sen_dict['obj_type'][idx],'obj_word':sen_dict['obj_word'][idx],'obj_start':aug_obj_idx_dict[idx][0],'obj_end':aug_obj_idx_dict[idx][1],'sentence':aug_dict[idx],'label':sen_dict['label'][idx],'label_num':sen_dict['label_num'][idx]}\n",
    "        train_df_2 = train_df_2.append(insert_data,ignore_index=True)"
   ]
  },
  {
   "cell_type": "code",
   "execution_count": 162,
   "metadata": {},
   "outputs": [
    {
     "data": {
      "text/html": [
       "<div>\n",
       "<style scoped>\n",
       "    .dataframe tbody tr th:only-of-type {\n",
       "        vertical-align: middle;\n",
       "    }\n",
       "\n",
       "    .dataframe tbody tr th {\n",
       "        vertical-align: top;\n",
       "    }\n",
       "\n",
       "    .dataframe thead th {\n",
       "        text-align: right;\n",
       "    }\n",
       "</style>\n",
       "<table border=\"1\" class=\"dataframe\">\n",
       "  <thead>\n",
       "    <tr style=\"text-align: right;\">\n",
       "      <th></th>\n",
       "      <th>id</th>\n",
       "      <th>subj_type</th>\n",
       "      <th>subj_word</th>\n",
       "      <th>subj_start</th>\n",
       "      <th>subj_end</th>\n",
       "      <th>obj_type</th>\n",
       "      <th>obj_word</th>\n",
       "      <th>obj_start</th>\n",
       "      <th>obj_end</th>\n",
       "      <th>sentence</th>\n",
       "      <th>label</th>\n",
       "      <th>label_num</th>\n",
       "    </tr>\n",
       "  </thead>\n",
       "  <tbody>\n",
       "    <tr>\n",
       "      <th>32467</th>\n",
       "      <td>32467</td>\n",
       "      <td>ORG</td>\n",
       "      <td>완도군</td>\n",
       "      <td>0</td>\n",
       "      <td>2</td>\n",
       "      <td>PER</td>\n",
       "      <td>신우철</td>\n",
       "      <td>7</td>\n",
       "      <td>9</td>\n",
       "      <td>완도군(군수 신우철)이 국토교통부에서 실시한 '2019 교통문화지수 실태조사'에서 229개 기초지자체 중 최상위 등급인 A등급을 받으면서 전국에서 가장 높은 교통안전 인식 수준을 갖고 있는 것으로 나타났다.</td>\n",
       "      <td>org:top_members/employees</td>\n",
       "      <td>1</td>\n",
       "    </tr>\n",
       "    <tr>\n",
       "      <th>32468</th>\n",
       "      <td>32468</td>\n",
       "      <td>ORG</td>\n",
       "      <td>JTBC</td>\n",
       "      <td>6</td>\n",
       "      <td>9</td>\n",
       "      <td>ORG</td>\n",
       "      <td>중앙홀딩스</td>\n",
       "      <td>21</td>\n",
       "      <td>25</td>\n",
       "      <td>중앙일보, JTBC 회장을 지낸 이후 중앙홀딩스 회장, 재단법인 한반도평화만들기 이사장, 한국기원 총재를 맡고 있다.</td>\n",
       "      <td>no_relation</td>\n",
       "      <td>0</td>\n",
       "    </tr>\n",
       "    <tr>\n",
       "      <th>32469</th>\n",
       "      <td>32469</td>\n",
       "      <td>ORG</td>\n",
       "      <td>화순군</td>\n",
       "      <td>0</td>\n",
       "      <td>2</td>\n",
       "      <td>PER</td>\n",
       "      <td>구충곤</td>\n",
       "      <td>7</td>\n",
       "      <td>9</td>\n",
       "      <td>화순군(군수 구충곤)은 17일 동면의 이장 20여 명이 코로나 19 예방을 위해 버스 승강장, 공중화장실 등 다중이용시설과 오동리 천운아파트 주변을 소독하는 방역 봉사활동을 펼쳤다고 밝혔다.</td>\n",
       "      <td>org:top_members/employees</td>\n",
       "      <td>1</td>\n",
       "    </tr>\n",
       "    <tr>\n",
       "      <th>32470</th>\n",
       "      <td>32470</td>\n",
       "      <td>ORG</td>\n",
       "      <td>비틀즈</td>\n",
       "      <td>22</td>\n",
       "      <td>24</td>\n",
       "      <td>PER</td>\n",
       "      <td>조지 해리슨</td>\n",
       "      <td>6</td>\n",
       "      <td>11</td>\n",
       "      <td>어떤 것은 조지 해리슨에 의해 쓰여졌고 비틀즈의 1969년 앨범 Abbey Road에 포함되어 있다.</td>\n",
       "      <td>no_relation</td>\n",
       "      <td>0</td>\n",
       "    </tr>\n",
       "    <tr>\n",
       "      <th>32471</th>\n",
       "      <td>32471</td>\n",
       "      <td>ORG</td>\n",
       "      <td>민주평화당</td>\n",
       "      <td>24</td>\n",
       "      <td>28</td>\n",
       "      <td>ORG</td>\n",
       "      <td>대안신당</td>\n",
       "      <td>18</td>\n",
       "      <td>21</td>\n",
       "      <td>호남을 기반으로 하는 바른정당과 대안신당, 민주평화당가 우여곡절 끝에 합당해 민생당(가칭)으로 거듭난다.</td>\n",
       "      <td>no_relation</td>\n",
       "      <td>0</td>\n",
       "    </tr>\n",
       "    <tr>\n",
       "      <th>32472</th>\n",
       "      <td>32473</td>\n",
       "      <td>ORG</td>\n",
       "      <td>아성다이소</td>\n",
       "      <td>5</td>\n",
       "      <td>9</td>\n",
       "      <td>PER</td>\n",
       "      <td>박정부</td>\n",
       "      <td>14</td>\n",
       "      <td>16</td>\n",
       "      <td>주식회사 아성다이소(대표 박정부)는 COVID-19 바이러스로 몸살을 앓고 있는 대구광역시에 행복상자를 전달했다고 10일 밝혔다.</td>\n",
       "      <td>org:top_members/employees</td>\n",
       "      <td>1</td>\n",
       "    </tr>\n",
       "    <tr>\n",
       "      <th>32473</th>\n",
       "      <td>32474</td>\n",
       "      <td>ORG</td>\n",
       "      <td>요미우리 자이언츠</td>\n",
       "      <td>23</td>\n",
       "      <td>31</td>\n",
       "      <td>DAT</td>\n",
       "      <td>1967</td>\n",
       "      <td>3</td>\n",
       "      <td>6</td>\n",
       "      <td>그가 1967 프로야구 드래프트 1순위로 요미우리 자이언츠에 입단했을 때, 그의 유니폼 번호는 8번이었다.</td>\n",
       "      <td>no_relation</td>\n",
       "      <td>0</td>\n",
       "    </tr>\n",
       "    <tr>\n",
       "      <th>32474</th>\n",
       "      <td>32475</td>\n",
       "      <td>ORG</td>\n",
       "      <td>북대서양 조약 기구</td>\n",
       "      <td>12</td>\n",
       "      <td>21</td>\n",
       "      <td>ORG</td>\n",
       "      <td>NATO</td>\n",
       "      <td>23</td>\n",
       "      <td>26</td>\n",
       "      <td>: 유엔, 유럽의회, 북대서양 조약 기구(NATO), 국제이주기구, 세계보건기구(WHO), 지중해연합, 이슬람협력기구, 유럽안보협력기구, 국제통화기금, 세계무역기구.</td>\n",
       "      <td>org:alternate_names</td>\n",
       "      <td>5</td>\n",
       "    </tr>\n",
       "    <tr>\n",
       "      <th>32475</th>\n",
       "      <td>32476</td>\n",
       "      <td>ORG</td>\n",
       "      <td>AC 밀란</td>\n",
       "      <td>59</td>\n",
       "      <td>63</td>\n",
       "      <td>DAT</td>\n",
       "      <td>1989</td>\n",
       "      <td>25</td>\n",
       "      <td>28</td>\n",
       "      <td>이에 따라 나폴리와 계약을 연장한 마라도나는 1989팀을 UEFA컵 정상에 올려놓았고 이듬해 유럽 챔피언 AC 밀란를 꺾고 다시 한 번 세리에A 정상에 올랐다.</td>\n",
       "      <td>no_relation</td>\n",
       "      <td>0</td>\n",
       "    </tr>\n",
       "    <tr>\n",
       "      <th>32476</th>\n",
       "      <td>32478</td>\n",
       "      <td>ORG</td>\n",
       "      <td>중화민국</td>\n",
       "      <td>52</td>\n",
       "      <td>55</td>\n",
       "      <td>LOC</td>\n",
       "      <td>타이베이</td>\n",
       "      <td>24</td>\n",
       "      <td>27</td>\n",
       "      <td>중국군에 대해 너무 약해진 국민당은 수도를 타이베이로 옮기기로 결정하고 12월부터 남아 있는 중화민국 병력과 국유재산을 차례로 대만으로 이전하기 시작했고, 12월에는 중앙정부가 타이베이시를 옮겨 중화민국의 새 수도가 되었다.</td>\n",
       "      <td>org:place_of_headquarters</td>\n",
       "      <td>7</td>\n",
       "    </tr>\n",
       "    <tr>\n",
       "      <th>32477</th>\n",
       "      <td>32479</td>\n",
       "      <td>PER</td>\n",
       "      <td>안규백</td>\n",
       "      <td>14</td>\n",
       "      <td>16</td>\n",
       "      <td>ORG</td>\n",
       "      <td>더불어민주당</td>\n",
       "      <td>54</td>\n",
       "      <td>59</td>\n",
       "      <td>특히 김동연 전 부총리, 안규백 의원, 김종민 오세 최운열 김정우 권칠승 맹성규 의원 등 8명의 더불어민주당 의원이 영상 메시지를 보냈다.</td>\n",
       "      <td>per:employee_of</td>\n",
       "      <td>6</td>\n",
       "    </tr>\n",
       "    <tr>\n",
       "      <th>32478</th>\n",
       "      <td>32480</td>\n",
       "      <td>PER</td>\n",
       "      <td>하비에르 파스토레</td>\n",
       "      <td>0</td>\n",
       "      <td>8</td>\n",
       "      <td>LOC</td>\n",
       "      <td>아르헨티나</td>\n",
       "      <td>11</td>\n",
       "      <td>15</td>\n",
       "      <td>하비에르 파스토레는 아르헨티나 클럽 태어스의 청소년 팀을 위해 축구를 시작했다.</td>\n",
       "      <td>per:origin</td>\n",
       "      <td>15</td>\n",
       "    </tr>\n",
       "    <tr>\n",
       "      <th>32479</th>\n",
       "      <td>32481</td>\n",
       "      <td>PER</td>\n",
       "      <td>빌리 아일리시</td>\n",
       "      <td>42</td>\n",
       "      <td>48</td>\n",
       "      <td>POH</td>\n",
       "      <td>싱어송라이터</td>\n",
       "      <td>35</td>\n",
       "      <td>40</td>\n",
       "      <td>1990년대 중반 이후 태어난 세대의 대표적 아이콘으로 알려진 싱어송라이터 빌리 아일리시(본명 빌리 오코넬19)가 팝의 새로운 역사를 썼다.</td>\n",
       "      <td>per:title</td>\n",
       "      <td>4</td>\n",
       "    </tr>\n",
       "    <tr>\n",
       "      <th>32480</th>\n",
       "      <td>32482</td>\n",
       "      <td>ORG</td>\n",
       "      <td>필라델피아 필리스</td>\n",
       "      <td>17</td>\n",
       "      <td>25</td>\n",
       "      <td>PER</td>\n",
       "      <td>박찬호</td>\n",
       "      <td>35</td>\n",
       "      <td>37</td>\n",
       "      <td>2009년 9월 미국 프로야구 필라델피아 필리스 소속 야구선수 박찬호는 MBC 스페셜에서 박찬호가 당신을 잊지 않고 최진실의 아픔과 죽음을 이해한다. 나는 최진실의 사건에 눈물을 흘렸다. 나는 한번 죽기로 결심한 적이 있다. 저는 잘하려고 노력했지만, 비난과 비난을 받았어요. \"머리가 빠져서 너무 힘들었어요\" 그리고 최진실의 죽음은...에 대한 유감을 표현했다.</td>\n",
       "      <td>org:top_members/employees</td>\n",
       "      <td>1</td>\n",
       "    </tr>\n",
       "    <tr>\n",
       "      <th>32481</th>\n",
       "      <td>32483</td>\n",
       "      <td>ORG</td>\n",
       "      <td>뉴질랜드</td>\n",
       "      <td>0</td>\n",
       "      <td>3</td>\n",
       "      <td>LOC</td>\n",
       "      <td>오클랜드</td>\n",
       "      <td>47</td>\n",
       "      <td>50</td>\n",
       "      <td>뉴질랜드의 1차 산업부의 생물 보안 대변인인 캐서린 더시 박사는 초파리를 잡기 위해 오클랜드 전역에 1,300개 이상의 파리 통이 배치되어 있으며, 조만간 이 통들을 마지막으로 검사할 것이라고 말했다.</td>\n",
       "      <td>org:members</td>\n",
       "      <td>2</td>\n",
       "    </tr>\n",
       "    <tr>\n",
       "      <th>32482</th>\n",
       "      <td>32484</td>\n",
       "      <td>PER</td>\n",
       "      <td>미켈란젤로</td>\n",
       "      <td>47</td>\n",
       "      <td>51</td>\n",
       "      <td>DAT</td>\n",
       "      <td>르네상스</td>\n",
       "      <td>92</td>\n",
       "      <td>95</td>\n",
       "      <td>지오토 디 본도네, 마사치오, 피에로 델라 프란체스카, 도메니코 줄란도, 페루지노, 미켈란젤로, 라파엘, 보티첼리, 레오나르도 다빈치, 리치아노로 대표되는 이탈리아 르네상스 그림은 그 당시와 그 이후의 기간에 걸쳐 유럽에 영향을 미쳤다.</td>\n",
       "      <td>no_relation</td>\n",
       "      <td>0</td>\n",
       "    </tr>\n",
       "    <tr>\n",
       "      <th>32483</th>\n",
       "      <td>32486</td>\n",
       "      <td>PER</td>\n",
       "      <td>이정미</td>\n",
       "      <td>0</td>\n",
       "      <td>2</td>\n",
       "      <td>ORG</td>\n",
       "      <td>정의당</td>\n",
       "      <td>72</td>\n",
       "      <td>74</td>\n",
       "      <td>이정미 대표도 기자회견에 앞서 \"특위를 한국당에 내주는 일은 없어야 한다\"며 \"지금 민주당에 득이 된다고 생각하시는지 모르겠지만 정의당와 야당의 개혁협력이 될 것\"이라고 지적했다.</td>\n",
       "      <td>no_relation</td>\n",
       "      <td>0</td>\n",
       "    </tr>\n",
       "    <tr>\n",
       "      <th>32484</th>\n",
       "      <td>32487</td>\n",
       "      <td>ORG</td>\n",
       "      <td>제2총군</td>\n",
       "      <td>0</td>\n",
       "      <td>3</td>\n",
       "      <td>ORG</td>\n",
       "      <td>일본 제국 육군</td>\n",
       "      <td>47</td>\n",
       "      <td>54</td>\n",
       "      <td>제2총군는 태평양 전쟁 말기에 일본 본토에 상륙하려는 연합군에 대항하기 위해 창설된 일본 제국 육군의 총병력이다.</td>\n",
       "      <td>org:member_of</td>\n",
       "      <td>20</td>\n",
       "    </tr>\n",
       "    <tr>\n",
       "      <th>32485</th>\n",
       "      <td>32488</td>\n",
       "      <td>PER</td>\n",
       "      <td>문성민</td>\n",
       "      <td>0</td>\n",
       "      <td>2</td>\n",
       "      <td>ORG</td>\n",
       "      <td>경기대</td>\n",
       "      <td>5</td>\n",
       "      <td>7</td>\n",
       "      <td>문성민는 경기대스쿨에 입학해 황동일, 신영석 등과 함께 하계대회, 전국체전, 최강전 등 3관왕을 차지하며 경기대 전성시대를 이끌었다.</td>\n",
       "      <td>per:schools_attended</td>\n",
       "      <td>23</td>\n",
       "    </tr>\n",
       "    <tr>\n",
       "      <th>32486</th>\n",
       "      <td>32489</td>\n",
       "      <td>ORG</td>\n",
       "      <td>한국수자원공사</td>\n",
       "      <td>71</td>\n",
       "      <td>77</td>\n",
       "      <td>ORG</td>\n",
       "      <td>환경부</td>\n",
       "      <td>66</td>\n",
       "      <td>68</td>\n",
       "      <td>포럼은 제주개발공사, 유네스코 아시아태평양본부, 한국지질자원연구원이 공동 주최하고 유네스코 파리본부, 제주특별자치도, 환경부, 한국수자원공사, 한국건설기술연구원이 후원한다.</td>\n",
       "      <td>no_relation</td>\n",
       "      <td>0</td>\n",
       "    </tr>\n",
       "  </tbody>\n",
       "</table>\n",
       "</div>"
      ],
      "text/plain": [
       "          id subj_type   subj_word  subj_start  subj_end obj_type  obj_word  \\\n",
       "32467  32467  ORG       완도군         0           2         PER      신우철        \n",
       "32468  32468  ORG       JTBC        6           9         ORG      중앙홀딩스      \n",
       "32469  32469  ORG       화순군         0           2         PER      구충곤        \n",
       "32470  32470  ORG       비틀즈         22          24        PER      조지 해리슨     \n",
       "32471  32471  ORG       민주평화당       24          28        ORG      대안신당       \n",
       "32472  32473  ORG       아성다이소       5           9         PER      박정부        \n",
       "32473  32474  ORG       요미우리 자이언츠   23          31        DAT      1967       \n",
       "32474  32475  ORG       북대서양 조약 기구  12          21        ORG      NATO       \n",
       "32475  32476  ORG       AC 밀란       59          63        DAT      1989       \n",
       "32476  32478  ORG       중화민국        52          55        LOC      타이베이       \n",
       "32477  32479  PER       안규백         14          16        ORG      더불어민주당     \n",
       "32478  32480  PER       하비에르 파스토레   0           8         LOC      아르헨티나      \n",
       "32479  32481  PER       빌리 아일리시     42          48        POH      싱어송라이터     \n",
       "32480  32482  ORG       필라델피아 필리스   17          25        PER      박찬호        \n",
       "32481  32483  ORG       뉴질랜드        0           3         LOC      오클랜드       \n",
       "32482  32484  PER       미켈란젤로       47          51        DAT      르네상스       \n",
       "32483  32486  PER       이정미         0           2         ORG      정의당        \n",
       "32484  32487  ORG       제2총군        0           3         ORG      일본 제국 육군   \n",
       "32485  32488  PER       문성민         0           2         ORG      경기대        \n",
       "32486  32489  ORG       한국수자원공사     71          77        ORG      환경부        \n",
       "\n",
       "       obj_start  obj_end  \\\n",
       "32467  7          9         \n",
       "32468  21         25        \n",
       "32469  7          9         \n",
       "32470  6          11        \n",
       "32471  18         21        \n",
       "32472  14         16        \n",
       "32473  3          6         \n",
       "32474  23         26        \n",
       "32475  25         28        \n",
       "32476  24         27        \n",
       "32477  54         59        \n",
       "32478  11         15        \n",
       "32479  35         40        \n",
       "32480  35         37        \n",
       "32481  47         50        \n",
       "32482  92         95        \n",
       "32483  72         74        \n",
       "32484  47         54        \n",
       "32485  5          7         \n",
       "32486  66         68        \n",
       "\n",
       "                                                                                                                                                                                                          sentence  \\\n",
       "32467  완도군(군수 신우철)이 국토교통부에서 실시한 '2019 교통문화지수 실태조사'에서 229개 기초지자체 중 최상위 등급인 A등급을 받으면서 전국에서 가장 높은 교통안전 인식 수준을 갖고 있는 것으로 나타났다.                                                                                           \n",
       "32468  중앙일보, JTBC 회장을 지낸 이후 중앙홀딩스 회장, 재단법인 한반도평화만들기 이사장, 한국기원 총재를 맡고 있다.                                                                                                                                             \n",
       "32469  화순군(군수 구충곤)은 17일 동면의 이장 20여 명이 코로나 19 예방을 위해 버스 승강장, 공중화장실 등 다중이용시설과 오동리 천운아파트 주변을 소독하는 방역 봉사활동을 펼쳤다고 밝혔다.                                                                                                    \n",
       "32470  어떤 것은 조지 해리슨에 의해 쓰여졌고 비틀즈의 1969년 앨범 Abbey Road에 포함되어 있다.                                                                                                                                                      \n",
       "32471  호남을 기반으로 하는 바른정당과 대안신당, 민주평화당가 우여곡절 끝에 합당해 민생당(가칭)으로 거듭난다.                                                                                                                                                    \n",
       "32472  주식회사 아성다이소(대표 박정부)는 COVID-19 바이러스로 몸살을 앓고 있는 대구광역시에 행복상자를 전달했다고 10일 밝혔다.                                                                                                                                      \n",
       "32473  그가 1967 프로야구 드래프트 1순위로 요미우리 자이언츠에 입단했을 때, 그의 유니폼 번호는 8번이었다.                                                                                                                                                   \n",
       "32474  : 유엔, 유럽의회, 북대서양 조약 기구(NATO), 국제이주기구, 세계보건기구(WHO), 지중해연합, 이슬람협력기구, 유럽안보협력기구, 국제통화기금, 세계무역기구.                                                                                                                  \n",
       "32475  이에 따라 나폴리와 계약을 연장한 마라도나는 1989팀을 UEFA컵 정상에 올려놓았고 이듬해 유럽 챔피언 AC 밀란를 꺾고 다시 한 번 세리에A 정상에 올랐다.                                                                                                                     \n",
       "32476  중국군에 대해 너무 약해진 국민당은 수도를 타이베이로 옮기기로 결정하고 12월부터 남아 있는 중화민국 병력과 국유재산을 차례로 대만으로 이전하기 시작했고, 12월에는 중앙정부가 타이베이시를 옮겨 중화민국의 새 수도가 되었다.                                                                                 \n",
       "32477  특히 김동연 전 부총리, 안규백 의원, 김종민 오세 최운열 김정우 권칠승 맹성규 의원 등 8명의 더불어민주당 의원이 영상 메시지를 보냈다.                                                                                                                                 \n",
       "32478  하비에르 파스토레는 아르헨티나 클럽 태어스의 청소년 팀을 위해 축구를 시작했다.                                                                                                                                                                  \n",
       "32479  1990년대 중반 이후 태어난 세대의 대표적 아이콘으로 알려진 싱어송라이터 빌리 아일리시(본명 빌리 오코넬19)가 팝의 새로운 역사를 썼다.                                                                                                                                \n",
       "32480  2009년 9월 미국 프로야구 필라델피아 필리스 소속 야구선수 박찬호는 MBC 스페셜에서 박찬호가 당신을 잊지 않고 최진실의 아픔과 죽음을 이해한다. 나는 최진실의 사건에 눈물을 흘렸다. 나는 한번 죽기로 결심한 적이 있다. 저는 잘하려고 노력했지만, 비난과 비난을 받았어요. \"머리가 빠져서 너무 힘들었어요\" 그리고 최진실의 죽음은...에 대한 유감을 표현했다.   \n",
       "32481  뉴질랜드의 1차 산업부의 생물 보안 대변인인 캐서린 더시 박사는 초파리를 잡기 위해 오클랜드 전역에 1,300개 이상의 파리 통이 배치되어 있으며, 조만간 이 통들을 마지막으로 검사할 것이라고 말했다.                                                                                              \n",
       "32482  지오토 디 본도네, 마사치오, 피에로 델라 프란체스카, 도메니코 줄란도, 페루지노, 미켈란젤로, 라파엘, 보티첼리, 레오나르도 다빈치, 리치아노로 대표되는 이탈리아 르네상스 그림은 그 당시와 그 이후의 기간에 걸쳐 유럽에 영향을 미쳤다.                                                                          \n",
       "32483  이정미 대표도 기자회견에 앞서 \"특위를 한국당에 내주는 일은 없어야 한다\"며 \"지금 민주당에 득이 된다고 생각하시는지 모르겠지만 정의당와 야당의 개혁협력이 될 것\"이라고 지적했다.                                                                                                          \n",
       "32484  제2총군는 태평양 전쟁 말기에 일본 본토에 상륙하려는 연합군에 대항하기 위해 창설된 일본 제국 육군의 총병력이다.                                                                                                                                               \n",
       "32485  문성민는 경기대스쿨에 입학해 황동일, 신영석 등과 함께 하계대회, 전국체전, 최강전 등 3관왕을 차지하며 경기대 전성시대를 이끌었다.                                                                                                                                    \n",
       "32486  포럼은 제주개발공사, 유네스코 아시아태평양본부, 한국지질자원연구원이 공동 주최하고 유네스코 파리본부, 제주특별자치도, 환경부, 한국수자원공사, 한국건설기술연구원이 후원한다.                                                                                                              \n",
       "\n",
       "                           label  label_num  \n",
       "32467  org:top_members/employees  1          \n",
       "32468  no_relation                0          \n",
       "32469  org:top_members/employees  1          \n",
       "32470  no_relation                0          \n",
       "32471  no_relation                0          \n",
       "32472  org:top_members/employees  1          \n",
       "32473  no_relation                0          \n",
       "32474  org:alternate_names        5          \n",
       "32475  no_relation                0          \n",
       "32476  org:place_of_headquarters  7          \n",
       "32477  per:employee_of            6          \n",
       "32478  per:origin                 15         \n",
       "32479  per:title                  4          \n",
       "32480  org:top_members/employees  1          \n",
       "32481  org:members                2          \n",
       "32482  no_relation                0          \n",
       "32483  no_relation                0          \n",
       "32484  org:member_of              20         \n",
       "32485  per:schools_attended       23         \n",
       "32486  no_relation                0          "
      ]
     },
     "execution_count": 162,
     "metadata": {},
     "output_type": "execute_result"
    }
   ],
   "source": [
    "train_df_2.tail(20) #추가됬는지 확인\n",
    "# 약간 문제가 되는게 번역이 안되는 문장에 대해 index와 id가 안맞는 일이 발생함 조금 수정하면 될 것 같은데 문제 없는 이상 이대로 하겠음."
   ]
  },
  {
   "cell_type": "code",
   "execution_count": null,
   "metadata": {},
   "outputs": [],
   "source": []
  }
 ],
 "metadata": {
  "interpreter": {
   "hash": "d4d1e4263499bec80672ea0156c357c1ee493ec2b1c70f0acce89fc37c4a6abe"
  },
  "kernelspec": {
   "display_name": "Python 3.8.5 ('base')",
   "language": "python",
   "name": "python3"
  },
  "language_info": {
   "codemirror_mode": {
    "name": "ipython",
    "version": 3
   },
   "file_extension": ".py",
   "mimetype": "text/x-python",
   "name": "python",
   "nbconvert_exporter": "python",
   "pygments_lexer": "ipython3",
   "version": "3.8.5"
  },
  "orig_nbformat": 4
 },
 "nbformat": 4,
 "nbformat_minor": 2
}
