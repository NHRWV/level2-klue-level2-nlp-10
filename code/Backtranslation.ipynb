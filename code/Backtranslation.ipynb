{
 "cells": [
  {
   "cell_type": "code",
   "execution_count": 113,
   "metadata": {},
   "outputs": [],
   "source": [
    "from preprocess import *\n",
    "from df_edit import *"
   ]
  },
  {
   "cell_type": "code",
   "execution_count": null,
   "metadata": {},
   "outputs": [],
   "source": [
    "!pip install googletrans==4.0.0-rc1"
   ]
  },
  {
   "cell_type": "code",
   "execution_count": 1,
   "metadata": {},
   "outputs": [],
   "source": [
    "from googletrans import Translator\n",
    "\n",
    "translator = Translator()"
   ]
  },
  {
   "cell_type": "code",
   "execution_count": 13,
   "metadata": {},
   "outputs": [
    {
     "name": "stdout",
     "output_type": "stream",
     "text": [
      "Translated(src=ko, dest=en, text=Honam-based, the right futures, alternative and Democratic Peace, were worthy of the end of the twist, and unified the name (tentative)., pronunciation=None, extra_data=\"{'confiden...\")\n"
     ]
    }
   ],
   "source": [
    "print(translator.translate('호남이 기반인 바른미래당·대안신당·민주평화당이 우여곡절 끝에 합당해 민생당(가칭)으로 명칭을 통일하였다.', src='ko', dest='en'))"
   ]
  },
  {
   "cell_type": "code",
   "execution_count": 2,
   "metadata": {},
   "outputs": [
    {
     "name": "stderr",
     "output_type": "stream",
     "text": [
      "<ipython-input-2-3c150f134808>:6: FutureWarning: Passing a negative integer is deprecated in version 1.0 and will not be supported in future version. Instead, use None to not limit the column width.\n",
      "  pd.set_option('display.max_colwidth', -1)\n"
     ]
    }
   ],
   "source": [
    "import pandas as pd\n",
    "\n",
    "pd.set_option('display.max_rows', None)\n",
    "pd.set_option('display.max_columns', None)\n",
    "pd.set_option('display.width', None)\n",
    "pd.set_option('display.max_colwidth', -1)"
   ]
  },
  {
   "cell_type": "markdown",
   "metadata": {},
   "source": [
    "#### https://me2.kr/0j4cp 보고 따라하고 Google이 나오면 됩니다."
   ]
  },
  {
   "cell_type": "code",
   "execution_count": 3,
   "metadata": {},
   "outputs": [
    {
     "name": "stdout",
     "output_type": "stream",
     "text": [
      "Google\n"
     ]
    }
   ],
   "source": [
    "from selenium import webdriver\n",
    "from selenium.webdriver.chrome import service\n",
    "from selenium.webdriver.chrome.options import Options\n",
    "from selenium.webdriver.chrome.service import Service\n",
    "\n",
    "options = Options()\n",
    "options.add_argument(\"--no-sandbox\") #bypass OS security model\n",
    "options.add_argument(\"--headless\")\n",
    "options.add_argument(\"--disable-dev-shm-usage\") #overcome limited resource problems\n",
    "\n",
    "s=Service('/opt/ml/chromedriver')\n",
    "driver = webdriver.Chrome(options=options, service=s)\n",
    "driver.get('http://google.com/')\n",
    "myPageTitle = driver.title\n",
    "print(myPageTitle)\n",
    "driver.quit()"
   ]
  },
  {
   "cell_type": "code",
   "execution_count": 125,
   "metadata": {},
   "outputs": [],
   "source": [
    "train_df = pd.read_csv('/opt/ml/dataset/train/train.csv')\n",
    "train_df_2 = better_df(train_df)\n",
    "train_df_2 = Preprocess(train_df_2)"
   ]
  },
  {
   "cell_type": "code",
   "execution_count": 126,
   "metadata": {},
   "outputs": [
    {
     "data": {
      "text/plain": [
       "32423"
      ]
     },
     "execution_count": 126,
     "metadata": {},
     "output_type": "execute_result"
    }
   ],
   "source": [
    "(len(train_df_2))"
   ]
  },
  {
   "cell_type": "code",
   "execution_count": 127,
   "metadata": {},
   "outputs": [],
   "source": [
    "# index 잘못 되어 있는 지 확인\n",
    "for i in range(len(train_df_2)):\n",
    "    if train_df_2['sentence'].iloc[i][train_df_2['obj_start'].iloc[i]:train_df_2['obj_end'].iloc[i]+1] != train_df_2['obj_word'].iloc[i]:\n",
    "        print(train_df_2['sentence'].iloc[i])\n",
    "        print(train_df_2['subj_word'].iloc[i])"
   ]
  },
  {
   "cell_type": "code",
   "execution_count": 128,
   "metadata": {},
   "outputs": [],
   "source": [
    "sen_dict = train_df_2.to_dict()\n",
    "sub_ent_dict = {}\n",
    "obj_ent_dict = {}\n",
    "\n",
    "for idx in sen_dict['sentence'].keys():\n",
    "    sub_ent_dict[idx]=(sen_dict['subj_start'][idx],sen_dict['subj_end'][idx])\n",
    "    obj_ent_dict[idx]=(sen_dict['obj_start'][idx],sen_dict['obj_end'][idx])"
   ]
  },
  {
   "cell_type": "code",
   "execution_count": 129,
   "metadata": {},
   "outputs": [],
   "source": [
    "sub_code = \"VKV\" # entity가 사라지는 것을 방지\n",
    "obj_code = \"VJV\"\n",
    "encode_dict={}\n",
    "for idx in sen_dict['sentence'].keys():\n",
    "    sub_start = sub_ent_dict[idx][0]\n",
    "    sub_end = sub_ent_dict[idx][1]\n",
    "    obj_start = obj_ent_dict[idx][0]\n",
    "    obj_end = obj_ent_dict[idx][1]\n",
    "    if sub_start<obj_start:\n",
    "        encode_dict[idx]=(sen_dict['sentence'][idx][:sub_start]+sub_code+sen_dict['sentence'][idx][sub_end+1:obj_start]+obj_code+sen_dict['sentence'][idx][obj_end+1:])\n",
    "    else :\n",
    "        encode_dict[idx]=(sen_dict['sentence'][idx][:obj_start]+obj_code+sen_dict['sentence'][idx][obj_end+1:sub_start]+sub_code+sen_dict['sentence'][idx][sub_end+1:])"
   ]
  },
  {
   "cell_type": "code",
   "execution_count": 131,
   "metadata": {},
   "outputs": [
    {
     "data": {
      "text/plain": [
       "32423"
      ]
     },
     "execution_count": 131,
     "metadata": {},
     "output_type": "execute_result"
    }
   ],
   "source": [
    "# 인코딩 확인\n",
    "len(encode_dict)"
   ]
  },
  {
   "cell_type": "code",
   "execution_count": 132,
   "metadata": {},
   "outputs": [],
   "source": [
    "for key,item in encode_dict.items():\n",
    "    if len(item)>200:\n",
    "        quotioent = len(item) // 200\n",
    "        new_line_idx_list=[]\n",
    "        for i in range(quotioent):\n",
    "            new_line_idx = 200*(i+1)\n",
    "            while new_line_idx < len(item) and item[new_line_idx] != ' ':\n",
    "                new_line_idx += 1\n",
    "            new_line_idx_list.append(new_line_idx)\n",
    "        for n_idx in new_line_idx_list:\n",
    "            item = item[:n_idx]+'...'+item[n_idx+1:]\n",
    "        encode_dict[key]=item\n",
    "\n",
    "# 왜 이 짓을 하는가? 파파고는 한 문장당 200자만 번역이 가능하다 ..\n",
    "        "
   ]
  },
  {
   "cell_type": "code",
   "execution_count": 133,
   "metadata": {},
   "outputs": [
    {
     "data": {
      "text/plain": [
       "32423"
      ]
     },
     "execution_count": 133,
     "metadata": {},
     "output_type": "execute_result"
    }
   ],
   "source": [
    "len(encode_dict.keys())"
   ]
  },
  {
   "cell_type": "code",
   "execution_count": 134,
   "metadata": {},
   "outputs": [],
   "source": [
    "split_size = len(encode_dict.keys())//6\n",
    "split_key = []\n",
    "for i in range(6):\n",
    "    if i != 5:\n",
    "        split_key.append(list(encode_dict.keys())[i*split_size:(i+1)*split_size])\n",
    "    else:\n",
    "        split_key.append(list(encode_dict.keys())[i*split_size:])"
   ]
  },
  {
   "cell_type": "code",
   "execution_count": 140,
   "metadata": {},
   "outputs": [
    {
     "name": "stdout",
     "output_type": "stream",
     "text": [
      "5403\n",
      "5403\n",
      "5403\n",
      "5403\n",
      "5403\n",
      "5408\n",
      "32423\n"
     ]
    }
   ],
   "source": [
    "total_size=0\n",
    "for i in range(6):\n",
    "    print(len(split_key[i]))\n",
    "    total_size += len(split_key[i])\n",
    "print(total_size)"
   ]
  },
  {
   "cell_type": "code",
   "execution_count": 143,
   "metadata": {},
   "outputs": [
    {
     "name": "stdout",
     "output_type": "stream",
     "text": [
      "278\n",
      "3548\n"
     ]
    }
   ],
   "source": [
    "chk = 0\n",
    "for key in split_key[0]: # 277,3548 번 제거된 것 확인\n",
    "    if key != chk:\n",
    "        print(key)\n",
    "        chk +=1\n",
    "    chk +=1"
   ]
  },
  {
   "cell_type": "code",
   "execution_count": 45,
   "metadata": {},
   "outputs": [],
   "source": [
    "from selenium import webdriver\n",
    "from selenium.webdriver.chrome.options import Options\n",
    "from selenium.webdriver.chrome.service import Service\n",
    "from selenium.webdriver.support.ui import WebDriverWait\n",
    "from selenium.webdriver.support import expected_conditions as EC\n",
    "from selenium.webdriver.common.by import By\n",
    "import time\n",
    "import numpy as np\n",
    "from tqdm.auto import tqdm\n",
    "from datetime import datetime\n",
    "import pickle\n",
    "import itertools\n",
    "# 크롬창(웹드라이버) 열기\n",
    "options = Options()\n",
    "options.add_argument(\"--no-sandbox\") #bypass OS security model\n",
    "options.add_argument(\"--headless\")\n",
    "options.add_argument(\"--disable-dev-shm-usage\") #overcome limited resource problems\n",
    "s=Service('/opt/ml/chromedriver')\n",
    "driver = webdriver.Chrome(options=options, service=s)\n",
    "\n",
    "    \n",
    "\n"
   ]
  },
  {
   "cell_type": "code",
   "execution_count": 46,
   "metadata": {},
   "outputs": [],
   "source": [
    "# 파파고 페이지 접속\n",
    "\n",
    "target_present = EC.presence_of_element_located((By.XPATH, '//*[@id=\"txtTarget\"]'))\n",
    "\n",
    "\n",
    "i = 0 # 여기에 자신이 배정받은 번호 입력\n",
    "start_index = split_key[i][0]\n",
    "last_index = split_key[i][-1]\n",
    "kor_to_eng_dict={}\n",
    "\n",
    "for key in split_key[i]:\n",
    "    data = encode_dict[key]\n",
    "    # 입력창에 검색어 입력\n",
    "    backtrans=''\n",
    "    # element=WebDriverWait(driver, 10).until(target_present)\n",
    "    driver.get('https://papago.naver.com/?sk=ko&tk=en')\n",
    "    time.sleep(0.1)\n",
    "    driver.find_element(By.XPATH,value='//*[@id=\"sourceEditArea\"]/label').send_keys(data)\n",
    "    driver.find_element(By.XPATH,value='//*[@id=\"btnTranslate\"]').click()\n",
    "    time.sleep(1.5)\n",
    "    backtrans = WebDriverWait(driver, 20).until(target_present).text\n",
    "    # backtrans = driver.find_element(By.XPATH,value='//*[@id=\"txtTarget\"]').text\n",
    "    kor_to_eng_dict[key]=backtrans\n",
    "\n",
    "with open(f'kor_eng_{start_index}_to_{last_index}.pickle', 'wb') as f:\n",
    "    pickle.dump(kor_to_eng_dict, f, pickle.HIGHEST_PROTOCOL)"
   ]
  },
  {
   "cell_type": "code",
   "execution_count": 47,
   "metadata": {},
   "outputs": [
    {
     "data": {
      "text/plain": [
       "{0: \"Something is written by VJV and included in VKV's 1969 album Abbey Road.\",\n",
       " 1: \"The Bareunmirae Party, VJV, and VKV, which are based in Honam, will merge after many twists and turns and be reborn as the People's Livelihood Party (tentative name).\",\n",
       " 2: 'VKV, which ranks first in the K League 2, won the \"Full Stadium Award\" and the \"Plus Stadium Award\" in recognition of its audience attraction and marketing performance by VJV on the 26th.',\n",
       " 3: 'VKV Co., Ltd. (CEO VJV) announced on the 10th that it has delivered a happiness box to Daegu Metropolitan City, which is suffering from the COVID-19 virus.',\n",
       " 4: 'When he joined VKV as the No. 1 professional baseball draft in VJV, his uniform number was assigned No. 8.',\n",
       " 5: ': The United Nations, the European Parliament, the VKV (VJV), the International Organization for Migration, the World Health Organization (WHO), the Mediterranean Union, the Islamic Cooperation Organization, the European Security Cooperation Organization, the International Monetary Fund, the World Trade Organization and Francophony.',\n",
       " 6: 'Accordingly, Maradona, who extended his contract with Naples, led the VJV team to the top of the UEFA Cup, and the following year, he won against European champion VKV and once again reached the top of Serie A.',\n",
       " 7: 'VKV (March 19 in the lunar calendar) (March 19 in the lunar calendar) - November 4, 2009 was a South Korean businessman born in Seoul and served as chairman of Doosan Group and president of KBO.',\n",
       " 8: 'The Kuomintang, which had become too weak against the Chinese army, decided to move the capital to VJV, and began to move the remaining VKV troops, the state and personal property to Taiwan one after another in December, and in December, the central government moved Taipei City to become the new capital of the Republic of China.',\n",
       " 9: 'In particular, eight VJV lawmakers, including former Deputy Prime Minister Kim Dong-yeon, VKV lawmakers, Kim Jong-min, Oh Je-se, Choi Un-yeol, Kim Jung-woo, Kwon Chil-seung, and Maeng Sung-kyu, sent video congratulatory messages.'}"
      ]
     },
     "execution_count": 47,
     "metadata": {},
     "output_type": "execute_result"
    }
   ],
   "source": [
    "kor_to_eng_dict # 아무리 살리려고 해도 지워지는 경우가 있다."
   ]
  },
  {
   "cell_type": "code",
   "execution_count": 48,
   "metadata": {},
   "outputs": [],
   "source": [
    "target_present = EC.presence_of_element_located((By.XPATH, '//*[@id=\"txtTarget\"]'))\n",
    "eng_to_kor_dict={}\n",
    "\n",
    "for key,data in kor_to_eng_dict.items():\n",
    "    # 입력창에 검색어 입력\n",
    "    backtrans=''\n",
    "    # element=WebDriverWait(driver, 10).until(target_present)\n",
    "    driver.get('https://papago.naver.com/?sk=en&tk=ko')\n",
    "    time.sleep(0.1)\n",
    "    driver.find_element(By.XPATH,value='//*[@id=\"sourceEditArea\"]/label').send_keys(data)\n",
    "    driver.find_element(By.XPATH,value='//*[@id=\"btnTranslate\"]').click()\n",
    "    time.sleep(1.5)\n",
    "    backtrans = WebDriverWait(driver, 20).until(target_present).text\n",
    "    # backtrans = driver.find_element(By.XPATH,value='//*[@id=\"txtTarget\"]').text\n",
    "    eng_to_kor_dict[key]=backtrans\n",
    "\n",
    "with open(f'eng_kor_{start_index}_to_{last_index}.pickle', 'wb') as f:\n",
    "    pickle.dump(eng_to_kor_dict, f, pickle.HIGHEST_PROTOCOL)\n",
    "driver.close()"
   ]
  },
  {
   "cell_type": "code",
   "execution_count": 51,
   "metadata": {},
   "outputs": [
    {
     "data": {
      "text/plain": [
       "{0: '어떤 것은 VJV에 의해 쓰여졌고 VKV의 1969년 앨범 Abbey Road에 포함되어 있다.',\n",
       " 1: '호남을 기반으로 하는 바른정당과 VJV, VKV가 우여곡절 끝에 합당해 민생당(가칭)으로 거듭난다.',\n",
       " 2: \"K리그2 1위인 VKV는 26일 VJV의 시청자 유치와 마케팅 실적을 인정받아 '풀스타디움상'과 '플러스스타디움상'을 수상했다.\",\n",
       " 3: '주식회사 VKV(대표 VJV)는 COVID-19 바이러스로 몸살을 앓고 있는 대구광역시에 행복상자를 전달했다고 10일 밝혔다.',\n",
       " 4: '그가 VJV 프로야구 드래프트 1순위로 VKV에 입단했을 때, 그의 유니폼 번호는 8번이었다.',\n",
       " 5: ': 유엔, 유럽의회, VKV(VJV), 국제이주기구, 세계보건기구(WHO), 지중해연합, 이슬람협력기구, 유럽안보협력기구, 국제통화기금, 세계무역기구.',\n",
       " 6: '이에 따라 나폴리와 계약을 연장한 마라도나는 VJV팀을 UEFA컵 정상에 올려놓았고 이듬해 유럽 챔피언 VKV를 꺾고 다시 한 번 세리에A 정상에 올랐다.',\n",
       " 7: 'VKV (음력 3월 19일) - 2009년 11월 4일 서울에서 태어난 대한민국 기업인으로 두산그룹 회장 및 KBO 총재를 역임하였다.',\n",
       " 8: '중국군에 대해 너무 약해진 국민당은 수도를 VJV로 옮기기로 결정하고 12월부터 남아 있는 VKV 병력과 국유재산을 차례로 대만으로 이전하기 시작했고, 12월에는 중앙정부가 타이베이시를 옮겨 중화민국의 새 수도가 되었다.',\n",
       " 9: '특히 김동연 전 부총리, VKV 의원, 김종민 오세 최운열 김정우 권칠승 맹성규 의원 등 8명의 VJV 의원이 영상 메시지를 보냈다.'}"
      ]
     },
     "execution_count": 51,
     "metadata": {},
     "output_type": "execute_result"
    }
   ],
   "source": [
    "eng_to_kor_dict"
   ]
  },
  {
   "cell_type": "code",
   "execution_count": 52,
   "metadata": {},
   "outputs": [
    {
     "data": {
      "text/plain": [
       "{0: '어떤 것은 VJV에 의해 쓰여졌고 VKV의 1969년 앨범 Abbey Road에 포함되어 있다.',\n",
       " 1: '호남을 기반으로 하는 바른정당과 VJV, VKV가 우여곡절 끝에 합당해 민생당(가칭)으로 거듭난다.',\n",
       " 2: \"K리그2 1위인 VKV는 26일 VJV의 시청자 유치와 마케팅 실적을 인정받아 '풀스타디움상'과 '플러스스타디움상'을 수상했다.\",\n",
       " 3: '주식회사 VKV(대표 VJV)는 COVID-19 바이러스로 몸살을 앓고 있는 대구광역시에 행복상자를 전달했다고 10일 밝혔다.',\n",
       " 4: '그가 VJV 프로야구 드래프트 1순위로 VKV에 입단했을 때, 그의 유니폼 번호는 8번이었다.',\n",
       " 5: ': 유엔, 유럽의회, VKV(VJV), 국제이주기구, 세계보건기구(WHO), 지중해연합, 이슬람협력기구, 유럽안보협력기구, 국제통화기금, 세계무역기구.',\n",
       " 6: '이에 따라 나폴리와 계약을 연장한 마라도나는 VJV팀을 UEFA컵 정상에 올려놓았고 이듬해 유럽 챔피언 VKV를 꺾고 다시 한 번 세리에A 정상에 올랐다.',\n",
       " 7: 'VKV (음력 3월 19일) - 2009년 11월 4일 서울에서 태어난 대한민국 기업인으로 두산그룹 회장 및 KBO 총재를 역임하였다.',\n",
       " 8: '중국군에 대해 너무 약해진 국민당은 수도를 VJV로 옮기기로 결정하고 12월부터 남아 있는 VKV 병력과 국유재산을 차례로 대만으로 이전하기 시작했고, 12월에는 중앙정부가 타이베이시를 옮겨 중화민국의 새 수도가 되었다.',\n",
       " 9: '특히 김동연 전 부총리, VKV 의원, 김종민 오세 최운열 김정우 권칠승 맹성규 의원 등 8명의 VJV 의원이 영상 메시지를 보냈다.'}"
      ]
     },
     "execution_count": 52,
     "metadata": {},
     "output_type": "execute_result"
    }
   ],
   "source": [
    "aug_dict ={}\n",
    "for i in range(1):\n",
    "    with open(f'eng_kor_{i*(last_index-start_index)}_to_{(i+1)*(last_index-start_index)}.pickle','rb') as f:\n",
    "        data = pickle.load(f)\n",
    "        aug_dict.update(data)\n",
    "aug_dict"
   ]
  },
  {
   "cell_type": "code",
   "execution_count": 54,
   "metadata": {},
   "outputs": [
    {
     "name": "stdout",
     "output_type": "stream",
     "text": [
      "restoration percent :  0.9\n"
     ]
    },
    {
     "data": {
      "text/plain": [
       "{0: (22, 24),\n",
       " 1: (24, 28),\n",
       " 2: (9, 12),\n",
       " 3: (5, 9),\n",
       " 4: (23, 31),\n",
       " 5: (12, 21),\n",
       " 6: (59, 63),\n",
       " 8: (52, 55),\n",
       " 9: (14, 16)}"
      ]
     },
     "execution_count": 54,
     "metadata": {},
     "output_type": "execute_result"
    }
   ],
   "source": [
    "# 인코딩 과정에서 소문자가 나올 수 있어서 고려함\n",
    "score = 0\n",
    "aug_subj_idx_dict = {}\n",
    "aug_obj_idx_dict = {}\n",
    "\n",
    "for idx,item in aug_dict.items():\n",
    "    if item != '': # 번역이 안된 경우 제외\n",
    "        if sub_code in item or sub_code.lower() in item:\n",
    "            if obj_code in item or obj_code.lower() in item:\n",
    "                score += 1\n",
    "                \n",
    "                sub_start_idx = item.find(sub_code)\n",
    "                if sub_start_idx == -1:\n",
    "                    sub_start_idx = item.find(sub_code.lower())\n",
    "                obj_start_idx = item.find(obj_code)\n",
    "                if obj_start_idx == -1:\n",
    "                    obj_start_idx = item.find(obj_code.lower())\n",
    "\n",
    "                if sub_start_idx < obj_start_idx:\n",
    "                    item=item.replace(sub_code,sen_dict['subj_word'][idx])\n",
    "                    item=item.replace(sub_code.lower(),sen_dict['subj_word'][idx])\n",
    "                    aug_subj_idx_dict[idx]=((sub_start_idx,sub_start_idx+len(sen_dict['subj_word'][idx])-1))\n",
    "\n",
    "                    obj_start_idx = item.find(obj_code)\n",
    "                    if obj_start_idx == -1:\n",
    "                        obj_start_idx = item.find(obj_code.lower())\n",
    "\n",
    "                    item=item.replace(obj_code,sen_dict['obj_word'][idx])\n",
    "                    item=item.replace(obj_code.lower(),sen_dict['obj_word'][idx])\n",
    "                    aug_obj_idx_dict[idx]=((obj_start_idx,obj_start_idx+len(sen_dict['obj_word'][idx])-1))\n",
    "\n",
    "                else :\n",
    "                    item=item.replace(obj_code,sen_dict['obj_word'][idx])\n",
    "                    item=item.replace(obj_code.lower(),sen_dict['obj_word'][idx])\n",
    "                    aug_obj_idx_dict[idx]=((obj_start_idx,obj_start_idx+len(sen_dict['obj_word'][idx])-1))\n",
    "\n",
    "                    sub_start_idx = item.find(sub_code)\n",
    "                    if sub_start_idx == -1:\n",
    "                        sub_start_idx = item.find(sub_code.lower())\n",
    "\n",
    "                    item=item.replace(sub_code,sen_dict['subj_word'][idx])\n",
    "                    item=item.replace(sub_code.lower(),sen_dict['subj_word'][idx])\n",
    "                    aug_subj_idx_dict[idx]=((sub_start_idx,sub_start_idx+len(sen_dict['subj_word'][idx])-1))\n",
    "\n",
    "                aug_dict[idx]=item\n",
    "print(\"restoration percent : \", score/len(aug_dict))\n",
    "aug_subj_idx_dict"
   ]
  },
  {
   "cell_type": "code",
   "execution_count": 55,
   "metadata": {},
   "outputs": [
    {
     "name": "stdout",
     "output_type": "stream",
     "text": [
      "비틀즈\n",
      "민주평화당\n",
      "광주FC\n",
      "아성다이소\n",
      "요미우리 자이언츠\n",
      "북대서양 조약 기구\n",
      "AC 밀란\n",
      "중화민국\n",
      "안규백\n"
     ]
    }
   ],
   "source": [
    "for idx,item in aug_dict.items():\n",
    "    if idx in aug_subj_idx_dict.keys():\n",
    "        print(aug_dict[idx][aug_subj_idx_dict[idx][0]:aug_subj_idx_dict[idx][1]+1])"
   ]
  },
  {
   "cell_type": "code",
   "execution_count": 56,
   "metadata": {},
   "outputs": [],
   "source": [
    "aug_data={}\n",
    "for idx,item in aug_dict.items():\n",
    "    if idx in aug_subj_idx_dict.keys():\n",
    "        insert_data={'id':idx+32470,\n",
    "                    'subj_type':sen_dict['subj_type'][idx],\n",
    "                    'subj_word':sen_dict['subj_word'][idx],\n",
    "                    'subj_start':aug_subj_idx_dict[idx][0],\n",
    "                    'subj_end':aug_subj_idx_dict[idx][1],\n",
    "                    'obj_type':sen_dict['obj_type'][idx],\n",
    "                    'obj_word':sen_dict['obj_word'][idx],\n",
    "                    'obj_start':aug_obj_idx_dict[idx][0],\n",
    "                    'obj_end':aug_obj_idx_dict[idx][1],\n",
    "                    'sentence':aug_dict[idx],\n",
    "                    'label':sen_dict['label'][idx],\n",
    "                    'label_num':sen_dict['label_num'][idx]}\n",
    "        train_df_2 = train_df_2.append(insert_data,ignore_index=True)"
   ]
  },
  {
   "cell_type": "code",
   "execution_count": 57,
   "metadata": {},
   "outputs": [
    {
     "data": {
      "text/html": [
       "<div>\n",
       "<style scoped>\n",
       "    .dataframe tbody tr th:only-of-type {\n",
       "        vertical-align: middle;\n",
       "    }\n",
       "\n",
       "    .dataframe tbody tr th {\n",
       "        vertical-align: top;\n",
       "    }\n",
       "\n",
       "    .dataframe thead th {\n",
       "        text-align: right;\n",
       "    }\n",
       "</style>\n",
       "<table border=\"1\" class=\"dataframe\">\n",
       "  <thead>\n",
       "    <tr style=\"text-align: right;\">\n",
       "      <th></th>\n",
       "      <th>id</th>\n",
       "      <th>subj_type</th>\n",
       "      <th>subj_word</th>\n",
       "      <th>subj_start</th>\n",
       "      <th>subj_end</th>\n",
       "      <th>obj_type</th>\n",
       "      <th>obj_word</th>\n",
       "      <th>obj_start</th>\n",
       "      <th>obj_end</th>\n",
       "      <th>sentence</th>\n",
       "      <th>label</th>\n",
       "      <th>label_num</th>\n",
       "    </tr>\n",
       "  </thead>\n",
       "  <tbody>\n",
       "    <tr>\n",
       "      <th>32422</th>\n",
       "      <td>32469</td>\n",
       "      <td>ORG</td>\n",
       "      <td>화순군</td>\n",
       "      <td>0</td>\n",
       "      <td>2</td>\n",
       "      <td>PER</td>\n",
       "      <td>구충곤</td>\n",
       "      <td>7</td>\n",
       "      <td>9</td>\n",
       "      <td>화순군(군수 구충곤)은 17일 동면의 이장 20여 명이 코로나 19 예방을 위해 버스 승강장, 공중화장실 등 다중이용시설과 오동리 천운아파트 주변을 소독하는 방역 봉사활동을 펼쳤다고 밝혔다.</td>\n",
       "      <td>org:top_members/employees</td>\n",
       "      <td>1</td>\n",
       "    </tr>\n",
       "    <tr>\n",
       "      <th>32423</th>\n",
       "      <td>32470</td>\n",
       "      <td>ORG</td>\n",
       "      <td>비틀즈</td>\n",
       "      <td>22</td>\n",
       "      <td>24</td>\n",
       "      <td>PER</td>\n",
       "      <td>조지 해리슨</td>\n",
       "      <td>6</td>\n",
       "      <td>11</td>\n",
       "      <td>어떤 것은 조지 해리슨에 의해 쓰여졌고 비틀즈의 1969년 앨범 Abbey Road에 포함되어 있다.</td>\n",
       "      <td>no_relation</td>\n",
       "      <td>0</td>\n",
       "    </tr>\n",
       "    <tr>\n",
       "      <th>32424</th>\n",
       "      <td>32471</td>\n",
       "      <td>ORG</td>\n",
       "      <td>민주평화당</td>\n",
       "      <td>24</td>\n",
       "      <td>28</td>\n",
       "      <td>ORG</td>\n",
       "      <td>대안신당</td>\n",
       "      <td>18</td>\n",
       "      <td>21</td>\n",
       "      <td>호남을 기반으로 하는 바른정당과 대안신당, 민주평화당가 우여곡절 끝에 합당해 민생당(가칭)으로 거듭난다.</td>\n",
       "      <td>no_relation</td>\n",
       "      <td>0</td>\n",
       "    </tr>\n",
       "    <tr>\n",
       "      <th>32425</th>\n",
       "      <td>32472</td>\n",
       "      <td>ORG</td>\n",
       "      <td>광주FC</td>\n",
       "      <td>9</td>\n",
       "      <td>12</td>\n",
       "      <td>ORG</td>\n",
       "      <td>한국프로축구연맹</td>\n",
       "      <td>19</td>\n",
       "      <td>26</td>\n",
       "      <td>K리그2 1위인 광주FC는 26일 한국프로축구연맹의 시청자 유치와 마케팅 실적을 인정받아 '풀스타디움상'과 '플러스스타디움상'을 수상했다.</td>\n",
       "      <td>org:member_of</td>\n",
       "      <td>20</td>\n",
       "    </tr>\n",
       "    <tr>\n",
       "      <th>32426</th>\n",
       "      <td>32473</td>\n",
       "      <td>ORG</td>\n",
       "      <td>아성다이소</td>\n",
       "      <td>5</td>\n",
       "      <td>9</td>\n",
       "      <td>PER</td>\n",
       "      <td>박정부</td>\n",
       "      <td>14</td>\n",
       "      <td>16</td>\n",
       "      <td>주식회사 아성다이소(대표 박정부)는 COVID-19 바이러스로 몸살을 앓고 있는 대구광역시에 행복상자를 전달했다고 10일 밝혔다.</td>\n",
       "      <td>org:top_members/employees</td>\n",
       "      <td>1</td>\n",
       "    </tr>\n",
       "    <tr>\n",
       "      <th>32427</th>\n",
       "      <td>32474</td>\n",
       "      <td>ORG</td>\n",
       "      <td>요미우리 자이언츠</td>\n",
       "      <td>23</td>\n",
       "      <td>31</td>\n",
       "      <td>DAT</td>\n",
       "      <td>1967</td>\n",
       "      <td>3</td>\n",
       "      <td>6</td>\n",
       "      <td>그가 1967 프로야구 드래프트 1순위로 요미우리 자이언츠에 입단했을 때, 그의 유니폼 번호는 8번이었다.</td>\n",
       "      <td>no_relation</td>\n",
       "      <td>0</td>\n",
       "    </tr>\n",
       "    <tr>\n",
       "      <th>32428</th>\n",
       "      <td>32475</td>\n",
       "      <td>ORG</td>\n",
       "      <td>북대서양 조약 기구</td>\n",
       "      <td>12</td>\n",
       "      <td>21</td>\n",
       "      <td>ORG</td>\n",
       "      <td>NATO</td>\n",
       "      <td>23</td>\n",
       "      <td>26</td>\n",
       "      <td>: 유엔, 유럽의회, 북대서양 조약 기구(NATO), 국제이주기구, 세계보건기구(WHO), 지중해연합, 이슬람협력기구, 유럽안보협력기구, 국제통화기금, 세계무역기구.</td>\n",
       "      <td>org:alternate_names</td>\n",
       "      <td>5</td>\n",
       "    </tr>\n",
       "    <tr>\n",
       "      <th>32429</th>\n",
       "      <td>32476</td>\n",
       "      <td>ORG</td>\n",
       "      <td>AC 밀란</td>\n",
       "      <td>59</td>\n",
       "      <td>63</td>\n",
       "      <td>DAT</td>\n",
       "      <td>1989</td>\n",
       "      <td>25</td>\n",
       "      <td>28</td>\n",
       "      <td>이에 따라 나폴리와 계약을 연장한 마라도나는 1989팀을 UEFA컵 정상에 올려놓았고 이듬해 유럽 챔피언 AC 밀란를 꺾고 다시 한 번 세리에A 정상에 올랐다.</td>\n",
       "      <td>no_relation</td>\n",
       "      <td>0</td>\n",
       "    </tr>\n",
       "    <tr>\n",
       "      <th>32430</th>\n",
       "      <td>32478</td>\n",
       "      <td>ORG</td>\n",
       "      <td>중화민국</td>\n",
       "      <td>52</td>\n",
       "      <td>55</td>\n",
       "      <td>LOC</td>\n",
       "      <td>타이베이</td>\n",
       "      <td>24</td>\n",
       "      <td>27</td>\n",
       "      <td>중국군에 대해 너무 약해진 국민당은 수도를 타이베이로 옮기기로 결정하고 12월부터 남아 있는 중화민국 병력과 국유재산을 차례로 대만으로 이전하기 시작했고, 12월에는 중앙정부가 타이베이시를 옮겨 중화민국의 새 수도가 되었다.</td>\n",
       "      <td>org:place_of_headquarters</td>\n",
       "      <td>7</td>\n",
       "    </tr>\n",
       "    <tr>\n",
       "      <th>32431</th>\n",
       "      <td>32479</td>\n",
       "      <td>PER</td>\n",
       "      <td>안규백</td>\n",
       "      <td>14</td>\n",
       "      <td>16</td>\n",
       "      <td>ORG</td>\n",
       "      <td>더불어민주당</td>\n",
       "      <td>54</td>\n",
       "      <td>59</td>\n",
       "      <td>특히 김동연 전 부총리, 안규백 의원, 김종민 오세 최운열 김정우 권칠승 맹성규 의원 등 8명의 더불어민주당 의원이 영상 메시지를 보냈다.</td>\n",
       "      <td>per:employee_of</td>\n",
       "      <td>6</td>\n",
       "    </tr>\n",
       "  </tbody>\n",
       "</table>\n",
       "</div>"
      ],
      "text/plain": [
       "          id subj_type   subj_word  subj_start  subj_end obj_type  obj_word  \\\n",
       "32422  32469  ORG       화순군         0           2         PER      구충곤        \n",
       "32423  32470  ORG       비틀즈         22          24        PER      조지 해리슨     \n",
       "32424  32471  ORG       민주평화당       24          28        ORG      대안신당       \n",
       "32425  32472  ORG       광주FC        9           12        ORG      한국프로축구연맹   \n",
       "32426  32473  ORG       아성다이소       5           9         PER      박정부        \n",
       "32427  32474  ORG       요미우리 자이언츠   23          31        DAT      1967       \n",
       "32428  32475  ORG       북대서양 조약 기구  12          21        ORG      NATO       \n",
       "32429  32476  ORG       AC 밀란       59          63        DAT      1989       \n",
       "32430  32478  ORG       중화민국        52          55        LOC      타이베이       \n",
       "32431  32479  PER       안규백         14          16        ORG      더불어민주당     \n",
       "\n",
       "       obj_start  obj_end  \\\n",
       "32422  7          9         \n",
       "32423  6          11        \n",
       "32424  18         21        \n",
       "32425  19         26        \n",
       "32426  14         16        \n",
       "32427  3          6         \n",
       "32428  23         26        \n",
       "32429  25         28        \n",
       "32430  24         27        \n",
       "32431  54         59        \n",
       "\n",
       "                                                                                                                            sentence  \\\n",
       "32422  화순군(군수 구충곤)은 17일 동면의 이장 20여 명이 코로나 19 예방을 위해 버스 승강장, 공중화장실 등 다중이용시설과 오동리 천운아파트 주변을 소독하는 방역 봉사활동을 펼쳤다고 밝혔다.                      \n",
       "32423  어떤 것은 조지 해리슨에 의해 쓰여졌고 비틀즈의 1969년 앨범 Abbey Road에 포함되어 있다.                                                                        \n",
       "32424  호남을 기반으로 하는 바른정당과 대안신당, 민주평화당가 우여곡절 끝에 합당해 민생당(가칭)으로 거듭난다.                                                                      \n",
       "32425  K리그2 1위인 광주FC는 26일 한국프로축구연맹의 시청자 유치와 마케팅 실적을 인정받아 '풀스타디움상'과 '플러스스타디움상'을 수상했다.                                                   \n",
       "32426  주식회사 아성다이소(대표 박정부)는 COVID-19 바이러스로 몸살을 앓고 있는 대구광역시에 행복상자를 전달했다고 10일 밝혔다.                                                        \n",
       "32427  그가 1967 프로야구 드래프트 1순위로 요미우리 자이언츠에 입단했을 때, 그의 유니폼 번호는 8번이었다.                                                                     \n",
       "32428  : 유엔, 유럽의회, 북대서양 조약 기구(NATO), 국제이주기구, 세계보건기구(WHO), 지중해연합, 이슬람협력기구, 유럽안보협력기구, 국제통화기금, 세계무역기구.                                    \n",
       "32429  이에 따라 나폴리와 계약을 연장한 마라도나는 1989팀을 UEFA컵 정상에 올려놓았고 이듬해 유럽 챔피언 AC 밀란를 꺾고 다시 한 번 세리에A 정상에 올랐다.                                       \n",
       "32430  중국군에 대해 너무 약해진 국민당은 수도를 타이베이로 옮기기로 결정하고 12월부터 남아 있는 중화민국 병력과 국유재산을 차례로 대만으로 이전하기 시작했고, 12월에는 중앙정부가 타이베이시를 옮겨 중화민국의 새 수도가 되었다.   \n",
       "32431  특히 김동연 전 부총리, 안규백 의원, 김종민 오세 최운열 김정우 권칠승 맹성규 의원 등 8명의 더불어민주당 의원이 영상 메시지를 보냈다.                                                   \n",
       "\n",
       "                           label  label_num  \n",
       "32422  org:top_members/employees  1          \n",
       "32423  no_relation                0          \n",
       "32424  no_relation                0          \n",
       "32425  org:member_of              20         \n",
       "32426  org:top_members/employees  1          \n",
       "32427  no_relation                0          \n",
       "32428  org:alternate_names        5          \n",
       "32429  no_relation                0          \n",
       "32430  org:place_of_headquarters  7          \n",
       "32431  per:employee_of            6          "
      ]
     },
     "execution_count": 57,
     "metadata": {},
     "output_type": "execute_result"
    }
   ],
   "source": [
    "train_df_2.tail(10) #추가됬는지 확인\n",
    "# 약간 문제가 되는게 번역이 안되는 문장에 대해 index와 id가 안맞는 일이 발생함 조금 수정하면 될 것 같은데 문제 없는 이상 이대로 하겠음."
   ]
  },
  {
   "cell_type": "code",
   "execution_count": null,
   "metadata": {},
   "outputs": [],
   "source": []
  }
 ],
 "metadata": {
  "interpreter": {
   "hash": "d4d1e4263499bec80672ea0156c357c1ee493ec2b1c70f0acce89fc37c4a6abe"
  },
  "kernelspec": {
   "display_name": "Python 3.8.5 ('base')",
   "language": "python",
   "name": "python3"
  },
  "language_info": {
   "codemirror_mode": {
    "name": "ipython",
    "version": 3
   },
   "file_extension": ".py",
   "mimetype": "text/x-python",
   "name": "python",
   "nbconvert_exporter": "python",
   "pygments_lexer": "ipython3",
   "version": "3.8.5"
  },
  "orig_nbformat": 4
 },
 "nbformat": 4,
 "nbformat_minor": 2
}
